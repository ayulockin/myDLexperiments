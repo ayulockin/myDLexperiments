{
 "cells": [
  {
   "cell_type": "markdown",
   "metadata": {},
   "source": [
    "## Understanding tensorflow \n",
    "\n",
    "##### Elements of tensorflow:\n",
    "\n",
    "- Manage Tensorflow program using `tf.Graph`.\n",
    "- Manage Tensorflow runtime using `tf.Session`\n",
    "\n",
    "Thus steps to a tensorflow approach are:\n",
    "\n",
    "- Build **computational graph**. (`tf.Graph`)\n",
    "- Run computational graph. (`tf.Session`)\n",
    "\n",
    "#### What is a computational graph?\n",
    "\n",
    "It's a series of tensorflow operations through which tensors flow. This is arranged into graph.\n",
    "\n",
    "##### Elements of computational graph:\n",
    "\n",
    "Every graph have two basic features: `node` and `edges`. \n",
    "\n",
    "- `tf.Operation`: This is also called **\"ops\"**. Ops describe calculation that consume tensor and produce tensor. *They are     nodes of the graph.* \n",
    "- `tf.Tensor`: Values that flow through graph. They don't have values but just handles to elements. They are like the pipe through which water flow. *They are edges of the graph.*"
   ]
  },
  {
   "cell_type": "code",
   "execution_count": 1,
   "metadata": {},
   "outputs": [],
   "source": [
    "import tensorflow as tf\n",
    "\n",
    "import numpy as np"
   ]
  },
  {
   "cell_type": "markdown",
   "metadata": {},
   "source": [
    "### Building a simple computational graph"
   ]
  },
  {
   "cell_type": "code",
   "execution_count": 2,
   "metadata": {},
   "outputs": [],
   "source": [
    "a = tf.constant(3.0, dtype=tf.float32)\n",
    "b = tf.constant(4.0)"
   ]
  },
  {
   "cell_type": "markdown",
   "metadata": {},
   "source": [
    "> 1) The values 3.0 and 4.0 are 0D Tensor(scalar) to the graph. <br>\n",
    "> 2) `a` and `b` are the object of `tf.Tensor`. <br>\n",
    "> 3) In `tf.constant` `constant` is the `ops` which is consuming 3.0 or 4.0 and resturning `tf.Tensor` as a or b."
   ]
  },
  {
   "cell_type": "code",
   "execution_count": 3,
   "metadata": {},
   "outputs": [
    {
     "name": "stdout",
     "output_type": "stream",
     "text": [
      "Tensor(\"Const:0\", shape=(), dtype=float32)\n",
      "Tensor(\"Const_1:0\", shape=(), dtype=float32)\n"
     ]
    }
   ],
   "source": [
    "print(a)\n",
    "print(b)"
   ]
  },
  {
   "cell_type": "markdown",
   "metadata": {},
   "source": [
    "> 1) `Const` is the operation. <br> 2) The default `dtype` is `float32`. <br> 3) The shape here is null because input tensor is 0D Tensor.<br> 4) Tensors are named after the operation that produce them. <br> 5) Printing them doesnot output the value since at this point we are building the computational graph. "
   ]
  },
  {
   "cell_type": "code",
   "execution_count": 4,
   "metadata": {},
   "outputs": [
    {
     "name": "stdout",
     "output_type": "stream",
     "text": [
      "Tensor(\"add:0\", shape=(), dtype=float32)\n"
     ]
    }
   ],
   "source": [
    "total = a + b\n",
    "\n",
    "print(total)"
   ]
  },
  {
   "cell_type": "markdown",
   "metadata": {},
   "source": [
    "##### Thus every tf ops takes in tensor and produce tensor. \n",
    "\n",
    "### Tensorboard\n",
    "\n",
    "Tensorboard helps us visualize the computational graph. \n",
    "\n",
    "To do so first the computatinal graph is to be saved. When we start building the computational graph using Tensorflow, tf makes that graph as the default graph and we can access the same as shown below."
   ]
  },
  {
   "cell_type": "code",
   "execution_count": 5,
   "metadata": {},
   "outputs": [],
   "source": [
    "writer = tf.summary.FileWriter('.')\n",
    "writer.add_graph(tf.get_default_graph())\n",
    "writer.flush()"
   ]
  },
  {
   "cell_type": "markdown",
   "metadata": {},
   "source": [
    "![graph](./graph_run=.png)\n",
    "\n",
    "### Runtime/Session\n",
    "\n",
    "To evaluate tensor we need to initialize `tf.Session` also called as **session**. \n",
    "Session runs tensorflow `ops`."
   ]
  },
  {
   "cell_type": "code",
   "execution_count": 6,
   "metadata": {},
   "outputs": [],
   "source": [
    "sess = tf.Session()"
   ]
  },
  {
   "cell_type": "code",
   "execution_count": 7,
   "metadata": {},
   "outputs": [
    {
     "data": {
      "text/plain": [
       "7.0"
      ]
     },
     "execution_count": 7,
     "metadata": {},
     "output_type": "execute_result"
    }
   ],
   "source": [
    "sess.run(total)"
   ]
  },
  {
   "cell_type": "markdown",
   "metadata": {},
   "source": [
    "> When `sess.run(ops/output node)` is run tensorflow backtracks through the graph and runs all the nodes that eventually feed input to the requested output node. "
   ]
  },
  {
   "cell_type": "markdown",
   "metadata": {},
   "source": [
    "###### During `sess.run` any `tf.Tensor` will have single value/vector. If a `tf.Tensor` is called more than once in single runtime, every time it will contain similar value."
   ]
  },
  {
   "cell_type": "code",
   "execution_count": 8,
   "metadata": {},
   "outputs": [],
   "source": [
    "vec = tf.random_uniform((3,))\n",
    "\n",
    "out1 = vec+1\n",
    "out2 = vec+2"
   ]
  },
  {
   "cell_type": "code",
   "execution_count": 9,
   "metadata": {},
   "outputs": [
    {
     "name": "stdout",
     "output_type": "stream",
     "text": [
      "[0.7339653 0.7411051 0.138363 ]\n",
      "[0.6313909  0.95397556 0.17467153]\n",
      "(array([1.874285 , 1.4563882, 1.9743004], dtype=float32), array([2.874285 , 2.4563882, 2.9743004], dtype=float32))\n"
     ]
    }
   ],
   "source": [
    "print(sess.run(vec))\n",
    "print(sess.run(vec))\n",
    "\n",
    "# sess.run can take in multiple tensors at once. \n",
    "print(sess.run((out1, out2)))"
   ]
  },
  {
   "cell_type": "markdown",
   "metadata": {},
   "source": [
    "> We can see that `vec`, when evaluated twice, gave different random results as expected. But the same when called once by `out1` and once by `out2`, evaluated single vector for `vec`. We can understand this more by looking at the computational graph."
   ]
  },
  {
   "cell_type": "code",
   "execution_count": 10,
   "metadata": {},
   "outputs": [],
   "source": [
    "tf.reset_default_graph()\n",
    "\n",
    "vec = tf.random_uniform((3,))\n",
    "\n",
    "out1 = vec+1\n",
    "out2 = vec+2"
   ]
  },
  {
   "cell_type": "code",
   "execution_count": 14,
   "metadata": {},
   "outputs": [],
   "source": [
    "writer.add_graph(tf.get_default_graph())\n",
    "writer.flush()"
   ]
  },
  {
   "cell_type": "markdown",
   "metadata": {},
   "source": [
    "![graph2](graph_run1=.png)\n",
    "\n",
    "> Thus when `sess.run` is called tensorflow backtrack the graph and start by evaluating `vec`. The output of vec is input to `add` ops of out1 and out2. Thus it gives a single value. \n",
    "\n",
    "###### Additional Points\n",
    "\n",
    "Some TensorFlow functions return `tf.Operations` instead of `tf.Tensors`. The result of calling run on an `Operation` is `None`. *You run an operation to cause a side-effect, not to retrieve a value*. Examples of this include the initialization, and training ops demonstrated later.\n",
    "\n",
    "### Feeding\n",
    "\n",
    "The above graphs were kinda boring and redundant as they always produce same values. To train something we need external data which can be provided to the graph using `placeholder`. Placeholder is like the arguments in a function. We first define the shape and dtype of placeholder and while running the graph we feed in the data using `feed_dict`."
   ]
  },
  {
   "cell_type": "code",
   "execution_count": 15,
   "metadata": {},
   "outputs": [],
   "source": [
    "tf.reset_default_graph()"
   ]
  },
  {
   "cell_type": "code",
   "execution_count": 16,
   "metadata": {},
   "outputs": [],
   "source": [
    "x = tf.placeholder(tf.float32)\n",
    "y = tf.placeholder(tf.float32)\n",
    "\n",
    "z = x + y"
   ]
  },
  {
   "cell_type": "code",
   "execution_count": 19,
   "metadata": {},
   "outputs": [
    {
     "name": "stdout",
     "output_type": "stream",
     "text": [
      "13.0\n",
      "[21. 43.]\n"
     ]
    }
   ],
   "source": [
    "with tf.Session() as sess:\n",
    "    print(sess.run(z, feed_dict={x: 3, y: 10}))\n",
    "    print(sess.run(z, feed_dict={x:[1,3], y:[20,40]}))"
   ]
  },
  {
   "cell_type": "code",
   "execution_count": 21,
   "metadata": {},
   "outputs": [],
   "source": [
    "writer.add_graph(tf.get_default_graph())\n",
    "writer.flush()"
   ]
  },
  {
   "cell_type": "markdown",
   "metadata": {},
   "source": [
    "![graph 3](graph_run2=.png)"
   ]
  },
  {
   "cell_type": "markdown",
   "metadata": {},
   "source": [
    "### Datasets\n",
    "\n",
    "Preferred method to stream data into a graph: `tf.data`"
   ]
  },
  {
   "cell_type": "code",
   "execution_count": 24,
   "metadata": {},
   "outputs": [],
   "source": [
    "my_data = [[1,2,3],\n",
    "           [10,20,30],\n",
    "           [100,200,300]]"
   ]
  },
  {
   "cell_type": "code",
   "execution_count": 25,
   "metadata": {},
   "outputs": [],
   "source": [
    "slices = tf.data.Dataset.from_tensor_slices(my_data)\n",
    "next_item = slices.make_one_shot_iterator().get_next()"
   ]
  },
  {
   "cell_type": "code",
   "execution_count": 29,
   "metadata": {},
   "outputs": [
    {
     "name": "stdout",
     "output_type": "stream",
     "text": [
      "[1 2 3]\n",
      "[10 20 30]\n",
      "[100 200 300]\n"
     ]
    }
   ],
   "source": [
    "with tf.Session() as sess:    \n",
    "    while True:\n",
    "        try:\n",
    "            print(sess.run(next_item))\n",
    "        except tf.errors.OutOfRangeError:\n",
    "            break"
   ]
  },
  {
   "cell_type": "code",
   "execution_count": 31,
   "metadata": {},
   "outputs": [
    {
     "name": "stdout",
     "output_type": "stream",
     "text": [
      "[ 0.37527117 -1.1918255   0.9921601 ]\n",
      "[0.07526138 0.04971177 0.93111634]\n",
      "[-0.79718375  0.5649017   0.3902759 ]\n",
      "[-1.467924   -0.11968345 -1.4690474 ]\n",
      "[ 0.15523027 -0.5143915   0.06215619]\n",
      "[-1.3118522   2.8252668  -0.75565743]\n",
      "[ 0.6310937 -0.5308934  0.2054451]\n",
      "[-0.18024008  0.13567962 -0.66969615]\n",
      "[-0.91613305 -0.07085349 -0.17927584]\n",
      "[-0.7193543  -0.48434746  0.21208327]\n"
     ]
    }
   ],
   "source": [
    "with tf.Session() as sess:\n",
    "    r = tf.random_normal([10,3])\n",
    "    dataset = tf.data.Dataset.from_tensor_slices(r)\n",
    "    iterator = dataset.make_initializable_iterator()\n",
    "    next_row = iterator.get_next()\n",
    "\n",
    "    sess.run(iterator.initializer)\n",
    "    while True:\n",
    "      try:\n",
    "        print(sess.run(next_row))\n",
    "      except tf.errors.OutOfRangeError:\n",
    "        break"
   ]
  },
  {
   "cell_type": "markdown",
   "metadata": {},
   "source": [
    "### Layers\n",
    "\n",
    "They are amalgamation of both Tensors and Operations. In a graph we want to modify some parameters so that we can learn some insight with the given same input."
   ]
  },
  {
   "cell_type": "code",
   "execution_count": 33,
   "metadata": {},
   "outputs": [],
   "source": [
    "tf.reset_default_graph()\n",
    "\n",
    "x = tf.placeholder(tf.float32, shape=[None, 3])\n",
    "linear_model = tf.layers.Dense(units=1)\n",
    "y = linear_model(x)"
   ]
  },
  {
   "cell_type": "markdown",
   "metadata": {},
   "source": [
    "#### Why initialise?\n",
    "\n",
    "The layers as mentioned have parameters which update when we train the graph. Thus these parameters need to be initialized."
   ]
  },
  {
   "cell_type": "code",
   "execution_count": 35,
   "metadata": {},
   "outputs": [],
   "source": [
    "init = tf.global_variables_initializer()"
   ]
  },
  {
   "cell_type": "code",
   "execution_count": 38,
   "metadata": {},
   "outputs": [
    {
     "name": "stdout",
     "output_type": "stream",
     "text": [
      "[[-3.199371]\n",
      " [-7.60085 ]]\n"
     ]
    }
   ],
   "source": [
    "with tf.Session() as sess:\n",
    "    sess.run(init)\n",
    "    \n",
    "    print(sess.run(y, feed_dict={x:[[1, 2, 3],[4, 5, 6]]}))"
   ]
  },
  {
   "cell_type": "code",
   "execution_count": null,
   "metadata": {},
   "outputs": [],
   "source": []
  }
 ],
 "metadata": {
  "kernelspec": {
   "display_name": "Python 3",
   "language": "python",
   "name": "python3"
  },
  "language_info": {
   "codemirror_mode": {
    "name": "ipython",
    "version": 3
   },
   "file_extension": ".py",
   "mimetype": "text/x-python",
   "name": "python",
   "nbconvert_exporter": "python",
   "pygments_lexer": "ipython3",
   "version": "3.7.1"
  }
 },
 "nbformat": 4,
 "nbformat_minor": 2
}
