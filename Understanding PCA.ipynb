{
 "cells": [
  {
   "cell_type": "markdown",
   "metadata": {},
   "source": [
    "This notebook will help me understand Principal Component Analysis or PCA.\n",
    "\n",
    "The references used are:\n",
    "\n",
    "- https://towardsdatascience.com/a-one-stop-shop-for-principal-component-analysis-5582fb7e0a9c\n",
    "- http://setosa.io/ev/principal-component-analysis/\n",
    "\n",
    "Why use PCA:\n",
    "\n",
    "- To bring out the best relationship between independent variables in a dataset. \n",
    "- It is used for feature extraction wherein two or more independent variables are combined as one variable. This was features can be reduced without loosing important relationships between variables.\n",
    "- It makes variables independent. Thus for tasks like regression where input features should be independent while dependent variable Y depends on the same. \n",
    "- Find strong pattern in the variables. \n",
    "\n",
    "### Imports"
   ]
  },
  {
   "cell_type": "code",
   "execution_count": 1,
   "metadata": {},
   "outputs": [],
   "source": [
    "import matplotlib.pyplot as plt\n",
    "import seaborn as sns\n",
    "\n",
    "%matplotlib inline\n",
    "sns.set()\n",
    "\n",
    "import numpy as np\n",
    "import pandas as pd\n",
    "\n",
    "from sklearn.datasets import make_blobs, make_regression"
   ]
  },
  {
   "cell_type": "markdown",
   "metadata": {},
   "source": [
    "## Case of 2D data\n",
    "\n",
    "###### Let's prepare some synthetic data"
   ]
  },
  {
   "cell_type": "code",
   "execution_count": 2,
   "metadata": {},
   "outputs": [],
   "source": [
    "x1 = np.array([4,2,1,6,4,7,8,9])\n",
    "x2 = np.array([15,9,4,20,11, 19,26,30])"
   ]
  },
  {
   "cell_type": "code",
   "execution_count": 3,
   "metadata": {},
   "outputs": [
    {
     "data": {
      "image/png": "[encoded data removed]",
      "text/plain": [
       "<Figure size 432x288 with 1 Axes>"
      ]
     },
     "metadata": {
      "needs_background": "light"
     },
     "output_type": "display_data"
    }
   ],
   "source": [
    "plt.plot(x1,x2, 'x');\n",
    "plt.title('Original Dataset');"
   ]
  },
  {
   "cell_type": "markdown",
   "metadata": {},
   "source": [
    "#### General Steps\n",
    "\n",
    "- Calculate a matrix that summarizes how variables relate to each other.\n",
    "- Break this matrix to two components:\n",
    "    - Direction\n",
    "    - Magnitude\n",
    "- Transform original data to align with these directions\n",
    "Let's see at the directions"
   ]
  },
  {
   "cell_type": "code",
   "execution_count": 4,
   "metadata": {},
   "outputs": [],
   "source": [
    "dir1x = [4, 5]; dir1y = [25, 20]\n",
    "dir2x = [5, 6]; dir2y = [20, 25]"
   ]
  },
  {
   "cell_type": "code",
   "execution_count": 5,
   "metadata": {},
   "outputs": [
    {
     "data": {
      "image/png": "[encoded data removed]",
      "text/plain": [
       "<Figure size 432x288 with 1 Axes>"
      ]
     },
     "metadata": {
      "needs_background": "light"
     },
     "output_type": "display_data"
    }
   ],
   "source": [
    "plt.plot(x1,x2, 'x');\n",
    "plt.plot(dir1x, dir1y, dir2x, dir2y, lw=4);\n",
    "plt.title('Original Dataset');"
   ]
  },
  {
   "cell_type": "markdown",
   "metadata": {},
   "source": [
    "> Which one of the following direction is more revelant for this dataset?\n",
    "\n",
    "Let's walk through an algorithm to perform PCA\n",
    "\n",
    "1) Split the dataset into label and features if your dataset is labeled. Since our dummy dataset donot have any label we are proceeding to step <br>\n",
    "2) For each column, subtract the mean of that column from each entry."
   ]
  },
  {
   "cell_type": "code",
   "execution_count": 44,
   "metadata": {},
   "outputs": [],
   "source": [
    "x1_mean_zero = x1-np.mean(x1)\n",
    "x2_mean_zero = x2-np.mean(x2)"
   ]
  },
  {
   "cell_type": "code",
   "execution_count": 45,
   "metadata": {},
   "outputs": [
    {
     "name": "stdout",
     "output_type": "stream",
     "text": [
      "x1 with zero mean:  [-1.125 -3.125 -4.125  0.875 -1.125  1.875  2.875  3.875] 0.0\n",
      "x2 with zero mean:  [ -1.75  -7.75 -12.75   3.25  -5.75   2.25   9.25  13.25] 0.0\n"
     ]
    }
   ],
   "source": [
    "print(\"x1 with zero mean: \", x1_mean_zero, np.mean(x1_mean_zero))\n",
    "print(\"x2 with zero mean: \", x2_mean_zero, np.mean(x2_mean_zero))"
   ]
  },
  {
   "cell_type": "markdown",
   "metadata": {},
   "source": [
    "3) Decide whether or not to standardize."
   ]
  },
  {
   "cell_type": "code",
   "execution_count": 46,
   "metadata": {},
   "outputs": [],
   "source": [
    "x1_mean_std = x1_mean_zero/np.std(x1)\n",
    "x2_mean_std = x2_mean_zero/np.std(x2)"
   ]
  },
  {
   "cell_type": "code",
   "execution_count": 47,
   "metadata": {},
   "outputs": [
    {
     "name": "stdout",
     "output_type": "stream",
     "text": [
      "x1 with zero mean and std 1:  [-0.42192651 -1.17201808 -1.54706386  0.32816506 -0.42192651  0.70321085\n",
      "  1.07825663  1.45330242] 5.551115123125783e-17 1.0\n",
      "x2 with zero mean and std 1:  [-0.21389632 -0.94725511 -1.55838744  0.39723602 -0.70280218  0.27500955\n",
      "  1.13059481  1.61950068] 5.551115123125783e-17 1.0\n"
     ]
    }
   ],
   "source": [
    "print(\"x1 with zero mean and std 1: \", x1_mean_std, np.mean(x1_mean_std), np.std(x1_mean_std))\n",
    "print(\"x2 with zero mean and std 1: \", x2_mean_std, np.mean(x2_mean_std), np.std(x2_mean_std))"
   ]
  },
  {
   "cell_type": "code",
   "execution_count": 8,
   "metadata": {},
   "outputs": [
    {
     "name": "stdout",
     "output_type": "stream",
     "text": [
      "Shape of X:  (8, 2)\n"
     ]
    }
   ],
   "source": [
    "X = np.array(list(zip(x1_mean_zero,x2_mean_zero)))\n",
    "print(\"Shape of X: \", X.shape)"
   ]
  },
  {
   "cell_type": "code",
   "execution_count": 9,
   "metadata": {},
   "outputs": [
    {
     "data": {
      "text/plain": [
       "array([[ -1.125,  -1.75 ],\n",
       "       [ -3.125,  -7.75 ],\n",
       "       [ -4.125, -12.75 ],\n",
       "       [  0.875,   3.25 ],\n",
       "       [ -1.125,  -5.75 ],\n",
       "       [  1.875,   2.25 ],\n",
       "       [  2.875,   9.25 ],\n",
       "       [  3.875,  13.25 ]])"
      ]
     },
     "execution_count": 9,
     "metadata": {},
     "output_type": "execute_result"
    }
   ],
   "source": [
    "X"
   ]
  },
  {
   "cell_type": "code",
   "execution_count": 10,
   "metadata": {},
   "outputs": [
    {
     "name": "stdout",
     "output_type": "stream",
     "text": [
      "Shape of X transposed:  (2, 8)\n"
     ]
    }
   ],
   "source": [
    "X_transpose = X.T\n",
    "print(\"Shape of X transposed: \", X_transpose.shape)"
   ]
  },
  {
   "cell_type": "code",
   "execution_count": 11,
   "metadata": {},
   "outputs": [],
   "source": [
    "covar_mat = np.matmul(X,X_transpose)"
   ]
  },
  {
   "cell_type": "code",
   "execution_count": 12,
   "metadata": {},
   "outputs": [
    {
     "name": "stdout",
     "output_type": "stream",
     "text": [
      "Shape: (8, 8)\n"
     ]
    }
   ],
   "source": [
    "print(\"Shape:\", covar_mat.shape)"
   ]
  },
  {
   "cell_type": "markdown",
   "metadata": {},
   "source": [
    "5) Calculate the eigenvectors and their corresponding eigenvalues of the resulting covariance matrix."
   ]
  },
  {
   "cell_type": "code",
   "execution_count": 13,
   "metadata": {},
   "outputs": [],
   "source": [
    "eigenvalue, eigenvector = np.linalg.eig(covar_mat)"
   ]
  },
  {
   "cell_type": "code",
   "execution_count": 14,
   "metadata": {},
   "outputs": [
    {
     "name": "stdout",
     "output_type": "stream",
     "text": [
      "Eigen Values:\n",
      " [ 5.89880427e+02  2.49457336e+00  1.07443375e-14 -5.82502628e-15\n",
      " -5.78858590e-16 -9.52604705e-17  7.14444488e-17 -5.22599346e-18]\n",
      "Shape:  (8,)\n",
      "\n",
      "\n",
      "Eigen Vector:\n",
      " [[-0.08273115  0.34138183  0.33314926 -0.03412406  0.00636302 -0.00106634\n",
      "   0.00834858  0.00647547]\n",
      " [-0.34311477  0.39174815 -0.22903021 -0.17256535  0.01690263  0.00209651\n",
      "   0.00371259  0.00208969]\n",
      " [-0.55174919  0.03163805 -0.5274579   0.62996971 -0.5226164  -0.23437144\n",
      "   0.5819574   0.50075379]\n",
      " [ 0.13843115  0.09836888 -0.03297453  0.03928043  0.01398375 -0.42443807\n",
      "   0.31134491 -0.39785488]\n",
      " [-0.23961639 -0.4292047   0.09201218 -0.16792449  0.17212119 -0.64096024\n",
      "   0.01393771  0.05879218]\n",
      " [ 0.11173772 -0.69740081 -0.24065657  0.19301174 -0.29099513  0.26505726\n",
      "   0.1056502   0.00975492]\n",
      " [ 0.39881476  0.04800256  0.22288355 -0.34108383  0.41649657 -0.52740929\n",
      "   0.74234844  0.7629313 ]\n",
      " [ 0.56822787  0.21546603 -0.66422788  0.6235877  -0.66225155 -0.07530524\n",
      "  -0.04323212  0.07276666]]\n",
      "Shape:  (8, 8)\n"
     ]
    }
   ],
   "source": [
    "print(\"Eigen Values:\\n\", eigenvalue)\n",
    "print(\"Shape: \", eigenvalue.shape)\n",
    "print(\"\\n\")\n",
    "print(\"Eigen Vector:\\n\", eigenvector)\n",
    "print(\"Shape: \", eigenvector.shape)"
   ]
  },
  {
   "cell_type": "markdown",
   "metadata": {},
   "source": [
    "6) Sort the eigenvalues from largest to smallest. Sort corresponding eigen vector too. "
   ]
  },
  {
   "cell_type": "code",
   "execution_count": 15,
   "metadata": {},
   "outputs": [],
   "source": [
    "# Get the sort index\n",
    "sort_index = np.argsort(eigenvalue)"
   ]
  },
  {
   "cell_type": "code",
   "execution_count": 16,
   "metadata": {},
   "outputs": [
    {
     "data": {
      "text/plain": [
       "array([3, 4, 5, 7, 6, 2, 1, 0], dtype=int64)"
      ]
     },
     "execution_count": 16,
     "metadata": {},
     "output_type": "execute_result"
    }
   ],
   "source": [
    "sort_index"
   ]
  },
  {
   "cell_type": "code",
   "execution_count": 17,
   "metadata": {},
   "outputs": [],
   "source": [
    "# Sort eigenvalue\n",
    "eigenvalue = np.sort(eigenvalue)"
   ]
  },
  {
   "cell_type": "code",
   "execution_count": 18,
   "metadata": {},
   "outputs": [
    {
     "data": {
      "text/plain": [
       "array([-5.82502628e-15, -5.78858590e-16, -9.52604705e-17, -5.22599346e-18,\n",
       "        7.14444488e-17,  1.07443375e-14,  2.49457336e+00,  5.89880427e+02])"
      ]
     },
     "execution_count": 18,
     "metadata": {},
     "output_type": "execute_result"
    }
   ],
   "source": [
    "eigenvalue"
   ]
  },
  {
   "cell_type": "code",
   "execution_count": 19,
   "metadata": {},
   "outputs": [],
   "source": [
    "# Sort eigen vector as per sort index\n",
    "eigenvector = eigenvector[:,sort_index]"
   ]
  },
  {
   "cell_type": "code",
   "execution_count": 20,
   "metadata": {},
   "outputs": [
    {
     "data": {
      "text/plain": [
       "array([[-0.03412406,  0.00636302, -0.00106634,  0.00647547,  0.00834858,\n",
       "         0.33314926,  0.34138183, -0.08273115],\n",
       "       [-0.17256535,  0.01690263,  0.00209651,  0.00208969,  0.00371259,\n",
       "        -0.22903021,  0.39174815, -0.34311477],\n",
       "       [ 0.62996971, -0.5226164 , -0.23437144,  0.50075379,  0.5819574 ,\n",
       "        -0.5274579 ,  0.03163805, -0.55174919],\n",
       "       [ 0.03928043,  0.01398375, -0.42443807, -0.39785488,  0.31134491,\n",
       "        -0.03297453,  0.09836888,  0.13843115],\n",
       "       [-0.16792449,  0.17212119, -0.64096024,  0.05879218,  0.01393771,\n",
       "         0.09201218, -0.4292047 , -0.23961639],\n",
       "       [ 0.19301174, -0.29099513,  0.26505726,  0.00975492,  0.1056502 ,\n",
       "        -0.24065657, -0.69740081,  0.11173772],\n",
       "       [-0.34108383,  0.41649657, -0.52740929,  0.7629313 ,  0.74234844,\n",
       "         0.22288355,  0.04800256,  0.39881476],\n",
       "       [ 0.6235877 , -0.66225155, -0.07530524,  0.07276666, -0.04323212,\n",
       "        -0.66422788,  0.21546603,  0.56822787]])"
      ]
     },
     "execution_count": 20,
     "metadata": {},
     "output_type": "execute_result"
    }
   ],
   "source": [
    "eigenvector"
   ]
  },
  {
   "cell_type": "code",
   "execution_count": 21,
   "metadata": {},
   "outputs": [],
   "source": [
    "## Reversing the order of eigenvalues and eigenvectors (Largest to Smallest)\n",
    "eigenvalue = eigenvalue[::-1]\n",
    "eigenvector = eigenvector[:,::-1]"
   ]
  },
  {
   "cell_type": "markdown",
   "metadata": {},
   "source": [
    "7) Calculate X* = X(eigenvector*)"
   ]
  },
  {
   "cell_type": "code",
   "execution_count": 22,
   "metadata": {},
   "outputs": [],
   "source": [
    "X_transformed = np.matmul(eigenvector, X)"
   ]
  },
  {
   "cell_type": "code",
   "execution_count": 27,
   "metadata": {},
   "outputs": [
    {
     "name": "stdout",
     "output_type": "stream",
     "text": [
      "Principal Compnent:\n",
      " [[-2.46390272 -7.15436898]\n",
      " [-0.50872635 -1.64083637]\n",
      " [ 3.14264152  9.44304291]\n",
      " [-0.21051077  2.41017813]\n",
      " [-0.18032225  0.20471332]\n",
      " [ 3.53614246  9.02703836]\n",
      " [-2.8399767  -7.73937186]\n",
      " [ 1.6788935   7.21300566]]\n",
      "Original Data:\n",
      " [[ -1.125  -1.75 ]\n",
      " [ -3.125  -7.75 ]\n",
      " [ -4.125 -12.75 ]\n",
      " [  0.875   3.25 ]\n",
      " [ -1.125  -5.75 ]\n",
      " [  1.875   2.25 ]\n",
      " [  2.875   9.25 ]\n",
      " [  3.875  13.25 ]]\n"
     ]
    }
   ],
   "source": [
    "print(\"Principal Compnent:\\n\", X_transformed)\n",
    "print(\"Original Data:\\n\", X)"
   ]
  },
  {
   "cell_type": "code",
   "execution_count": 24,
   "metadata": {},
   "outputs": [],
   "source": [
    "x1_transformed = X_transformed[:,:-1].flatten()\n",
    "x2_transformed = X_transformed[:,1:].flatten()"
   ]
  },
  {
   "cell_type": "code",
   "execution_count": 28,
   "metadata": {},
   "outputs": [
    {
     "data": {
      "text/plain": [
       "array([-2.46390272, -0.50872635,  3.14264152, -0.21051077, -0.18032225,\n",
       "        3.53614246, -2.8399767 ,  1.6788935 ])"
      ]
     },
     "execution_count": 28,
     "metadata": {},
     "output_type": "execute_result"
    }
   ],
   "source": [
    "x1_transformed"
   ]
  },
  {
   "cell_type": "code",
   "execution_count": 29,
   "metadata": {},
   "outputs": [
    {
     "data": {
      "image/png": "[encoded data removed]",
      "text/plain": [
       "<Figure size 432x288 with 1 Axes>"
      ]
     },
     "metadata": {
      "needs_background": "light"
     },
     "output_type": "display_data"
    }
   ],
   "source": [
    "plt.plot(x1_transformed,x2_transformed, 'x');\n",
    "plt.title('PCA');"
   ]
  },
  {
   "cell_type": "code",
   "execution_count": 36,
   "metadata": {},
   "outputs": [
    {
     "data": {
      "text/plain": [
       "[<matplotlib.lines.Line2D at 0x26f316d0710>]"
      ]
     },
     "execution_count": 36,
     "metadata": {},
     "output_type": "execute_result"
    },
    {
     "data": {
      "image/png": "[encoded data removed]",
      "text/plain": [
       "<Figure size 432x288 with 1 Axes>"
      ]
     },
     "metadata": {
      "needs_background": "light"
     },
     "output_type": "display_data"
    }
   ],
   "source": [
    "plt.plot(x1, x2, 'x')"
   ]
  },
  {
   "cell_type": "code",
   "execution_count": null,
   "metadata": {},
   "outputs": [],
   "source": []
  }
 ],
 "metadata": {
  "kernelspec": {
   "display_name": "Python 3",
   "language": "python",
   "name": "python3"
  },
  "language_info": {
   "codemirror_mode": {
    "name": "ipython",
    "version": 3
   },
   "file_extension": ".py",
   "mimetype": "text/x-python",
   "name": "python",
   "nbconvert_exporter": "python",
   "pygments_lexer": "ipython3",
   "version": "3.7.1"
  }
 },
 "nbformat": 4,
 "nbformat_minor": 2
}
