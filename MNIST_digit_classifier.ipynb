{
  "nbformat": 4,
  "nbformat_minor": 0,
  "metadata": {
    "colab": {
      "name": "MNIST_digit_classifier",
      "version": "0.3.2",
      "provenance": [],
      "collapsed_sections": [],
      "include_colab_link": true
    },
    "kernelspec": {
      "name": "python3",
      "display_name": "Python 3"
    }
  },
<<<<<<< HEAD
  {
   "cell_type": "code",
   "execution_count": 1,
   "metadata": {},
   "outputs": [],
   "source": [
    "import tensorflow as tf\n",
    "import pandas as pd\n",
    "import numpy as np\n",
    "import matplotlib.pyplot as plt\n",
    "\n",
    "from sklearn.preprocessing import OneHotEncoder\n",
    "from sklearn.preprocessing import MinMaxScaler\n",
    "\n",
    "%matplotlib inline"
   ]
  },
  {
   "cell_type": "markdown",
   "metadata": {},
   "source": [
    "### Load training data"
   ]
  },
  {
   "cell_type": "code",
   "execution_count": 2,
   "metadata": {},
   "outputs": [],
   "source": [
    "train_data = pd.read_csv('mnist_train.csv', header=None)\n",
    "test_data = pd.read_csv('mnist_test.csv', header=None)"
   ]
  },
  {
   "cell_type": "code",
   "execution_count": 3,
   "metadata": {},
   "outputs": [
    {
     "data": {
      "text/plain": [
       "0    5\n",
       "1    0\n",
       "2    4\n",
       "3    1\n",
       "4    9\n",
       "Name: 0, dtype: int64"
      ]
     },
     "execution_count": 3,
     "metadata": {},
     "output_type": "execute_result"
    }
   ],
   "source": [
    "X_train = train_data.drop(train_data.columns[0], axis=1)\n",
    "# X_train = X_train[0:2000]\n",
    "y_train = train_data[0]\n",
    "# y_train = y_train[0:2000]\n",
    "y_train.head()"
   ]
  },
  {
   "cell_type": "code",
   "execution_count": 4,
   "metadata": {},
   "outputs": [
    {
     "data": {
      "text/html": [
       "<div>\n",
       "<style scoped>\n",
       "    .dataframe tbody tr th:only-of-type {\n",
       "        vertical-align: middle;\n",
       "    }\n",
       "\n",
       "    .dataframe tbody tr th {\n",
       "        vertical-align: top;\n",
       "    }\n",
       "\n",
       "    .dataframe thead th {\n",
       "        text-align: right;\n",
       "    }\n",
       "</style>\n",
       "<table border=\"1\" class=\"dataframe\">\n",
       "  <thead>\n",
       "    <tr style=\"text-align: right;\">\n",
       "      <th></th>\n",
       "      <th>0</th>\n",
       "      <th>1</th>\n",
       "      <th>2</th>\n",
       "      <th>3</th>\n",
       "      <th>4</th>\n",
       "      <th>5</th>\n",
       "      <th>6</th>\n",
       "      <th>7</th>\n",
       "      <th>8</th>\n",
       "      <th>9</th>\n",
       "    </tr>\n",
       "  </thead>\n",
       "  <tbody>\n",
       "    <tr>\n",
       "      <th>0</th>\n",
       "      <td>0</td>\n",
       "      <td>0</td>\n",
       "      <td>0</td>\n",
       "      <td>0</td>\n",
       "      <td>0</td>\n",
       "      <td>1</td>\n",
       "      <td>0</td>\n",
       "      <td>0</td>\n",
       "      <td>0</td>\n",
       "      <td>0</td>\n",
       "    </tr>\n",
       "    <tr>\n",
       "      <th>1</th>\n",
       "      <td>1</td>\n",
       "      <td>0</td>\n",
       "      <td>0</td>\n",
       "      <td>0</td>\n",
       "      <td>0</td>\n",
       "      <td>0</td>\n",
       "      <td>0</td>\n",
       "      <td>0</td>\n",
       "      <td>0</td>\n",
       "      <td>0</td>\n",
       "    </tr>\n",
       "    <tr>\n",
       "      <th>2</th>\n",
       "      <td>0</td>\n",
       "      <td>0</td>\n",
       "      <td>0</td>\n",
       "      <td>0</td>\n",
       "      <td>1</td>\n",
       "      <td>0</td>\n",
       "      <td>0</td>\n",
       "      <td>0</td>\n",
       "      <td>0</td>\n",
       "      <td>0</td>\n",
       "    </tr>\n",
       "    <tr>\n",
       "      <th>3</th>\n",
       "      <td>0</td>\n",
       "      <td>1</td>\n",
       "      <td>0</td>\n",
       "      <td>0</td>\n",
       "      <td>0</td>\n",
       "      <td>0</td>\n",
       "      <td>0</td>\n",
       "      <td>0</td>\n",
       "      <td>0</td>\n",
       "      <td>0</td>\n",
       "    </tr>\n",
       "    <tr>\n",
       "      <th>4</th>\n",
       "      <td>0</td>\n",
       "      <td>0</td>\n",
       "      <td>0</td>\n",
       "      <td>0</td>\n",
       "      <td>0</td>\n",
       "      <td>0</td>\n",
       "      <td>0</td>\n",
       "      <td>0</td>\n",
       "      <td>0</td>\n",
       "      <td>1</td>\n",
       "    </tr>\n",
       "  </tbody>\n",
       "</table>\n",
       "</div>"
      ],
      "text/plain": [
       "   0  1  2  3  4  5  6  7  8  9\n",
       "0  0  0  0  0  0  1  0  0  0  0\n",
       "1  1  0  0  0  0  0  0  0  0  0\n",
       "2  0  0  0  0  1  0  0  0  0  0\n",
       "3  0  1  0  0  0  0  0  0  0  0\n",
       "4  0  0  0  0  0  0  0  0  0  1"
      ]
     },
     "execution_count": 4,
     "metadata": {},
     "output_type": "execute_result"
    }
   ],
   "source": [
    "# One hot encoded y_train label\n",
    "y_train = pd.get_dummies(train_data[0])\n",
    "# y_train = y_train[0:2000]\n",
    "y_train.head()"
   ]
  },
  {
   "cell_type": "code",
   "execution_count": 5,
   "metadata": {},
   "outputs": [
    {
     "data": {
      "text/plain": [
       "0    7\n",
       "1    2\n",
       "2    1\n",
       "3    0\n",
       "4    4\n",
       "Name: 0, dtype: int64"
      ]
     },
     "execution_count": 5,
     "metadata": {},
     "output_type": "execute_result"
    }
   ],
   "source": [
    "X_test = test_data.drop(test_data.columns[0], axis=1)\n",
    "# X_test = X_test[0:500]\n",
    "y_test = test_data[0]\n",
    "# y_test = y_test[0:500]\n",
    "y_test.head()"
   ]
  },
  {
   "cell_type": "code",
   "execution_count": 6,
   "metadata": {},
   "outputs": [
    {
     "data": {
      "text/html": [
       "<div>\n",
       "<style scoped>\n",
       "    .dataframe tbody tr th:only-of-type {\n",
       "        vertical-align: middle;\n",
       "    }\n",
       "\n",
       "    .dataframe tbody tr th {\n",
       "        vertical-align: top;\n",
       "    }\n",
       "\n",
       "    .dataframe thead th {\n",
       "        text-align: right;\n",
       "    }\n",
       "</style>\n",
       "<table border=\"1\" class=\"dataframe\">\n",
       "  <thead>\n",
       "    <tr style=\"text-align: right;\">\n",
       "      <th></th>\n",
       "      <th>0</th>\n",
       "      <th>1</th>\n",
       "      <th>2</th>\n",
       "      <th>3</th>\n",
       "      <th>4</th>\n",
       "      <th>5</th>\n",
       "      <th>6</th>\n",
       "      <th>7</th>\n",
       "      <th>8</th>\n",
       "      <th>9</th>\n",
       "    </tr>\n",
       "  </thead>\n",
       "  <tbody>\n",
       "    <tr>\n",
       "      <th>0</th>\n",
       "      <td>0</td>\n",
       "      <td>0</td>\n",
       "      <td>0</td>\n",
       "      <td>0</td>\n",
       "      <td>0</td>\n",
       "      <td>0</td>\n",
       "      <td>0</td>\n",
       "      <td>1</td>\n",
       "      <td>0</td>\n",
       "      <td>0</td>\n",
       "    </tr>\n",
       "    <tr>\n",
       "      <th>1</th>\n",
       "      <td>0</td>\n",
       "      <td>0</td>\n",
       "      <td>1</td>\n",
       "      <td>0</td>\n",
       "      <td>0</td>\n",
       "      <td>0</td>\n",
       "      <td>0</td>\n",
       "      <td>0</td>\n",
       "      <td>0</td>\n",
       "      <td>0</td>\n",
       "    </tr>\n",
       "    <tr>\n",
       "      <th>2</th>\n",
       "      <td>0</td>\n",
       "      <td>1</td>\n",
       "      <td>0</td>\n",
       "      <td>0</td>\n",
       "      <td>0</td>\n",
       "      <td>0</td>\n",
       "      <td>0</td>\n",
       "      <td>0</td>\n",
       "      <td>0</td>\n",
       "      <td>0</td>\n",
       "    </tr>\n",
       "    <tr>\n",
       "      <th>3</th>\n",
       "      <td>1</td>\n",
       "      <td>0</td>\n",
       "      <td>0</td>\n",
       "      <td>0</td>\n",
       "      <td>0</td>\n",
       "      <td>0</td>\n",
       "      <td>0</td>\n",
       "      <td>0</td>\n",
       "      <td>0</td>\n",
       "      <td>0</td>\n",
       "    </tr>\n",
       "    <tr>\n",
       "      <th>4</th>\n",
       "      <td>0</td>\n",
       "      <td>0</td>\n",
       "      <td>0</td>\n",
       "      <td>0</td>\n",
       "      <td>1</td>\n",
       "      <td>0</td>\n",
       "      <td>0</td>\n",
       "      <td>0</td>\n",
       "      <td>0</td>\n",
       "      <td>0</td>\n",
       "    </tr>\n",
       "  </tbody>\n",
       "</table>\n",
       "</div>"
      ],
      "text/plain": [
       "   0  1  2  3  4  5  6  7  8  9\n",
       "0  0  0  0  0  0  0  0  1  0  0\n",
       "1  0  0  1  0  0  0  0  0  0  0\n",
       "2  0  1  0  0  0  0  0  0  0  0\n",
       "3  1  0  0  0  0  0  0  0  0  0\n",
       "4  0  0  0  0  1  0  0  0  0  0"
      ]
     },
     "execution_count": 6,
     "metadata": {},
     "output_type": "execute_result"
    }
   ],
   "source": [
    "y_test = pd.get_dummies(test_data[0])\n",
    "# y_test = y_test[0:500]\n",
    "y_test.head()"
   ]
  },
  {
   "cell_type": "code",
   "execution_count": 7,
   "metadata": {},
   "outputs": [
    {
     "name": "stdout",
     "output_type": "stream",
     "text": [
      "Shape of input features:  (60000, 784)\n",
      "Shape of training labels:  (60000, 10)\n",
      "Shape of test features:  (10000, 784)\n",
      "Shape of test labels:  (10000, 10)\n"
     ]
    }
   ],
   "source": [
    "print('Shape of input features: ', X_train.shape)\n",
    "print('Shape of training labels: ', y_train.shape)\n",
    "print('Shape of test features: ', X_test.shape)\n",
    "print('Shape of test labels: ', y_test.shape)"
   ]
  },
  {
   "cell_type": "markdown",
   "metadata": {},
   "source": [
    "### Normalization"
   ]
  },
  {
   "cell_type": "code",
   "execution_count": 8,
   "metadata": {},
   "outputs": [],
   "source": [
    "min_max_scaler = MinMaxScaler()"
   ]
  },
  {
   "cell_type": "code",
   "execution_count": 9,
   "metadata": {},
   "outputs": [
    {
     "name": "stderr",
     "output_type": "stream",
     "text": [
      "C:\\Users\\Ayush\\Anaconda3\\lib\\site-packages\\sklearn\\utils\\validation.py:595: DataConversionWarning: Data with input dtype int64 was converted to float64 by MinMaxScaler.\n",
      "  warnings.warn(msg, DataConversionWarning)\n",
      "C:\\Users\\Ayush\\Anaconda3\\lib\\site-packages\\sklearn\\utils\\validation.py:595: DataConversionWarning: Data with input dtype uint8 was converted to float64 by MinMaxScaler.\n",
      "  warnings.warn(msg, DataConversionWarning)\n",
      "C:\\Users\\Ayush\\Anaconda3\\lib\\site-packages\\sklearn\\preprocessing\\data.py:323: DataConversionWarning: Data with input dtype int64 were all converted to float64 by MinMaxScaler.\n",
      "  return self.partial_fit(X, y)\n",
      "C:\\Users\\Ayush\\Anaconda3\\lib\\site-packages\\sklearn\\preprocessing\\data.py:323: DataConversionWarning: Data with input dtype uint8 were all converted to float64 by MinMaxScaler.\n",
      "  return self.partial_fit(X, y)\n"
     ]
    }
   ],
   "source": [
    "X_train = min_max_scaler.fit_transform(X_train.values)\n",
    "y_train = min_max_scaler.fit_transform(y_train.values)\n",
    "X_test = min_max_scaler.fit_transform(X_test)\n",
    "y_test = min_max_scaler.fit_transform(y_test)"
   ]
  },
  {
   "cell_type": "code",
   "execution_count": 10,
   "metadata": {},
   "outputs": [
    {
     "name": "stdout",
     "output_type": "stream",
     "text": [
      "Input features:  (60000, 784) float64\n",
      "Training labels:  (60000, 10) float64\n",
      "Test features:  (10000, 784) float64\n",
      "Test labels:  (10000, 10) float64\n"
     ]
    }
   ],
   "source": [
    "print('Input features: ', X_train.shape, X_train.dtype)\n",
    "print('Training labels: ', y_train.shape, y_train.dtype)\n",
    "print('Test features: ', X_test.shape, X_test.dtype)\n",
    "print('Test labels: ', y_test.shape, y_test.dtype)"
   ]
  },
  {
   "cell_type": "markdown",
   "metadata": {},
   "source": [
    "### Model"
   ]
  },
  {
   "cell_type": "code",
   "execution_count": 11,
   "metadata": {},
   "outputs": [
    {
     "name": "stdout",
     "output_type": "stream",
     "text": [
      "WARNING:tensorflow:From C:\\Users\\Ayush\\Anaconda3\\lib\\site-packages\\tensorflow\\python\\framework\\op_def_library.py:263: colocate_with (from tensorflow.python.framework.ops) is deprecated and will be removed in a future version.\n",
      "Instructions for updating:\n",
      "Colocations handled automatically by placer.\n"
     ]
    }
   ],
   "source": [
    "## Placeholders\n",
    "with tf.name_scope('placeholders'):\n",
    "    x = tf.placeholder(dtype=tf.float32, shape=(None,784), name='X_train')\n",
    "    y = tf.placeholder(dtype=tf.float32, shape=(None,10), name='y_label')\n",
    "\n",
    "# ## Variable\n",
    "with tf.name_scope('weights'):\n",
    "    W1 = tf.Variable(tf.random.normal((784,300), dtype=tf.float32), name='W1')\n",
    "    W2 = tf.Variable(tf.random.normal((300,100), dtype=tf.float32), name='W2')\n",
    "    W3 = tf.Variable(tf.random.normal((100,10), dtype=tf.float32), name='W3')"
   ]
  },
  {
   "cell_type": "code",
   "execution_count": 12,
   "metadata": {},
   "outputs": [],
   "source": [
    "learning_rate = 0.01\n",
    "epochs = 100"
   ]
  },
  {
   "cell_type": "code",
   "execution_count": 13,
   "metadata": {
    "scrolled": true
   },
   "outputs": [
    {
     "name": "stdout",
     "output_type": "stream",
     "text": [
      "WARNING:tensorflow:From C:\\Users\\Ayush\\Anaconda3\\lib\\site-packages\\tensorflow\\python\\ops\\losses\\losses_impl.py:209: to_float (from tensorflow.python.ops.math_ops) is deprecated and will be removed in a future version.\n",
      "Instructions for updating:\n",
      "Use tf.cast instead.\n"
     ]
    }
   ],
   "source": [
    "# Define Model\n",
    "def model(x):\n",
    "    # Layer 1\n",
    "    with tf.name_scope('layers'):\n",
    "        \n",
    "        layer1 = tf.matmul(x, W1)\n",
    "        layer1 = tf.nn.relu(layer1)\n",
    "\n",
    "        # Layer 2\n",
    "        layer2 = tf.matmul(layer1, W2)\n",
    "        layer2 = tf.nn.relu(layer2)\n",
    "\n",
    "        # Output layer\n",
    "        out_layer = tf.matmul(layer2, W3)\n",
    "\n",
    "    return out_layer\n",
    "\n",
    "# Construct model\n",
    "pred = model(x)\n",
    "\n",
    "# Define loss and optimizer\n",
    "with tf.name_scope('cost'):\n",
    "    cost = tf.reduce_mean(tf.losses.softmax_cross_entropy(onehot_labels=y, logits=pred))\n",
    "    optimizer = tf.train.AdamOptimizer(learning_rate=learning_rate).minimize(cost)\n",
    "\n",
    "# Define accuracy\n",
    "with tf.name_scope('accuracy'):\n",
    "    predicted = tf.nn.softmax(model(x))\n",
    "    correct_pred = tf.equal(tf.round(predicted), y)\n",
    "    accuracy = tf.reduce_mean(tf.cast(correct_pred, tf.float32))\n",
    "\n",
    "# Initializing the variables\n",
    "init = tf.global_variables_initializer()\n",
    "\n",
    "# Saver\n",
    "saver = tf.train.Saver()"
   ]
  },
  {
   "cell_type": "code",
   "execution_count": 14,
   "metadata": {},
   "outputs": [
    {
     "name": "stdout",
     "output_type": "stream",
     "text": [
      "Epoch: 0001 cost= 13.280362802\n",
      "Epoch: 0006 cost= 0.525039139\n",
      "Optimization Finished!\n",
      "Training accuracy:  0.991125\n",
      "Testing accuracy:  0.98976\n"
     ]
    }
   ],
   "source": [
    "costs = list()\n",
    "\n",
    "# Start tensor graph\n",
    "with tf.Session() as sess:\n",
    "    sess.run(init)\n",
    "#     writer = tf.summary.FileWriter('model/output_logdir', sess.graph)\n",
    "#     writer.close()\n",
    "    for epoch in range(10):\n",
    "        avg_cost = 0.\n",
    "        total_batch = int(len(X_train)/50)\n",
    "        X_batches = np.array_split(X_train, total_batch)\n",
    "        Y_batches = np.array_split(y_train, total_batch)\n",
    "        # Loop over all batches\n",
    "        for i in range(total_batch):\n",
    "            batch_x, batch_y = X_batches[i], Y_batches[i]\n",
    "            _, c = sess.run([optimizer, cost], feed_dict={x: batch_x,\n",
    "                                                         y: batch_y})\n",
    "            \n",
    "            costs.append(c)\n",
    "            avg_cost += c / total_batch \n",
    "        \n",
    "        # Display logs per epoch step\n",
    "        if epoch % 5 == 0:\n",
    "            print(\"Epoch:\", '%04d' % (epoch+1), \"cost=\", \"{:.9f}\".format(avg_cost))\n",
    "    print(\"Optimization Finished!\")\n",
    "    \n",
    "    print(\"Training accuracy: \", sess.run(accuracy, feed_dict={x: X_train, y: y_train}))\n",
    "    print(\"Testing accuracy: \", sess.run(accuracy, feed_dict={x: X_test, y: y_test}))\n",
    "    \n",
    "#     save_path = saver.save(sess, \"model/model.ckpt\")\n",
    "#     print(\"Model saved in path: %s\" % save_path)"
   ]
  },
  {
   "cell_type": "code",
   "execution_count": null,
   "metadata": {},
   "outputs": [],
   "source": []
  },
  {
   "cell_type": "code",
   "execution_count": null,
   "metadata": {},
   "outputs": [],
   "source": []
  }
 ],
 "metadata": {
  "kernelspec": {
   "display_name": "Python 3",
   "language": "python",
   "name": "python3"
  },
  "language_info": {
   "codemirror_mode": {
    "name": "ipython",
    "version": 3
   },
   "file_extension": ".py",
   "mimetype": "text/x-python",
   "name": "python",
   "nbconvert_exporter": "python",
   "pygments_lexer": "ipython3",
   "version": "3.7.1"
  }
 },
 "nbformat": 4,
 "nbformat_minor": 2
}
=======
  "cells": [
    {
      "cell_type": "markdown",
      "metadata": {
        "id": "view-in-github",
        "colab_type": "text"
      },
      "source": [
        "<a href=\"https://colab.research.google.com/github/ayulockin/AppsBee_Session/blob/master/MNIST_digit_classifier.ipynb\" target=\"_parent\"><img src=\"https://colab.research.google.com/assets/colab-badge.svg\" alt=\"Open In Colab\"/></a>"
      ]
    },
    {
      "metadata": {
        "id": "2dlz4sDWExxv",
        "colab_type": "text"
      },
      "cell_type": "markdown",
      "source": [
        "### Imports"
      ]
    },
    {
      "metadata": {
        "id": "B3ZVuk7Q2UPF",
        "colab_type": "code",
        "outputId": "51c3f982-f430-438b-dba1-39a45255e6d8",
        "colab": {
          "base_uri": "https://localhost:8080/",
          "height": 54
        }
      },
      "cell_type": "code",
      "source": [
        "# Code to read csv file into Colaboratory:\n",
        "\n",
        "!pip install -U -q PyDrive\n",
        "from pydrive.auth import GoogleAuth\n",
        "from pydrive.drive import GoogleDrive\n",
        "from google.colab import auth\n",
        "from oauth2client.client import GoogleCredentials\n",
        "\n",
        "# Authenticate and create the PyDrive client.\n",
        "auth.authenticate_user()\n",
        "gauth = GoogleAuth()\n",
        "gauth.credentials = GoogleCredentials.get_application_default()\n",
        "drive = GoogleDrive(gauth)"
      ],
      "execution_count": 2,
      "outputs": [
        {
          "output_type": "stream",
          "text": [
            "\u001b[?25l\r\u001b[K    1% |▎                               | 10kB 17.9MB/s eta 0:00:01\r\u001b[K    2% |▋                               | 20kB 3.5MB/s eta 0:00:01\r\u001b[K    3% |█                               | 30kB 4.9MB/s eta 0:00:01\r\u001b[K    4% |█▎                              | 40kB 3.1MB/s eta 0:00:01\r\u001b[K    5% |█▋                              | 51kB 3.8MB/s eta 0:00:01\r\u001b[K    6% |██                              | 61kB 4.5MB/s eta 0:00:01\r\u001b[K    7% |██▎                             | 71kB 5.1MB/s eta 0:00:01\r\u001b[K    8% |██▋                             | 81kB 3.9MB/s eta 0:00:01\r\u001b[K    9% |███                             | 92kB 4.3MB/s eta 0:00:01\r\u001b[K    10% |███▎                            | 102kB 4.8MB/s eta 0:00:01\r\u001b[K    11% |███▋                            | 112kB 4.8MB/s eta 0:00:01\r\u001b[K    12% |████                            | 122kB 6.4MB/s eta 0:00:01\r\u001b[K    13% |████▎                           | 133kB 6.4MB/s eta 0:00:01\r\u001b[K    14% |████▋                           | 143kB 11.2MB/s eta 0:00:01\r\u001b[K    15% |█████                           | 153kB 11.5MB/s eta 0:00:01\r\u001b[K    16% |█████▎                          | 163kB 11.5MB/s eta 0:00:01\r\u001b[K    17% |█████▋                          | 174kB 11.7MB/s eta 0:00:01\r\u001b[K    18% |██████                          | 184kB 47.6MB/s eta 0:00:01\r\u001b[K    19% |██████▎                         | 194kB 52.9MB/s eta 0:00:01\r\u001b[K    20% |██████▋                         | 204kB 14.5MB/s eta 0:00:01\r\u001b[K    21% |███████                         | 215kB 14.2MB/s eta 0:00:01\r\u001b[K    22% |███████▎                        | 225kB 14.2MB/s eta 0:00:01\r\u001b[K    23% |███████▋                        | 235kB 14.5MB/s eta 0:00:01\r\u001b[K    24% |████████                        | 245kB 14.5MB/s eta 0:00:01\r\u001b[K    25% |████████▎                       | 256kB 14.5MB/s eta 0:00:01\r\u001b[K    26% |████████▋                       | 266kB 13.8MB/s eta 0:00:01\r\u001b[K    27% |█████████                       | 276kB 13.9MB/s eta 0:00:01\r\u001b[K    29% |█████████▎                      | 286kB 13.9MB/s eta 0:00:01\r\u001b[K    30% |█████████▋                      | 296kB 13.8MB/s eta 0:00:01\r\u001b[K    31% |██████████                      | 307kB 48.6MB/s eta 0:00:01\r\u001b[K    32% |██████████▎                     | 317kB 54.7MB/s eta 0:00:01\r\u001b[K    33% |██████████▋                     | 327kB 54.7MB/s eta 0:00:01\r\u001b[K    34% |███████████                     | 337kB 55.4MB/s eta 0:00:01\r\u001b[K    35% |███████████▎                    | 348kB 47.2MB/s eta 0:00:01\r\u001b[K    36% |███████████▋                    | 358kB 47.3MB/s eta 0:00:01\r\u001b[K    37% |████████████                    | 368kB 56.9MB/s eta 0:00:01\r\u001b[K    38% |████████████▎                   | 378kB 19.4MB/s eta 0:00:01\r\u001b[K    39% |████████████▋                   | 389kB 19.1MB/s eta 0:00:01\r\u001b[K    40% |█████████████                   | 399kB 18.7MB/s eta 0:00:01\r\u001b[K    41% |█████████████▎                  | 409kB 18.3MB/s eta 0:00:01\r\u001b[K    42% |█████████████▋                  | 419kB 18.2MB/s eta 0:00:01\r\u001b[K    43% |██████████████                  | 430kB 18.1MB/s eta 0:00:01\r\u001b[K    44% |██████████████▎                 | 440kB 18.1MB/s eta 0:00:01\r\u001b[K    45% |██████████████▋                 | 450kB 18.4MB/s eta 0:00:01\r\u001b[K    46% |███████████████                 | 460kB 18.4MB/s eta 0:00:01\r\u001b[K    47% |███████████████▎                | 471kB 18.4MB/s eta 0:00:01\r\u001b[K    48% |███████████████▋                | 481kB 49.8MB/s eta 0:00:01\r\u001b[K    49% |████████████████                | 491kB 50.6MB/s eta 0:00:01\r\u001b[K    50% |████████████████▎               | 501kB 54.4MB/s eta 0:00:01\r\u001b[K    51% |████████████████▋               | 512kB 51.4MB/s eta 0:00:01\r\u001b[K    52% |█████████████████               | 522kB 51.6MB/s eta 0:00:01\r\u001b[K    53% |█████████████████▎              | 532kB 52.6MB/s eta 0:00:01\r\u001b[K    54% |█████████████████▋              | 542kB 52.5MB/s eta 0:00:01\r\u001b[K    55% |██████████████████              | 552kB 60.4MB/s eta 0:00:01\r\u001b[K    57% |██████████████████▎             | 563kB 60.5MB/s eta 0:00:01\r\u001b[K    58% |██████████████████▋             | 573kB 60.8MB/s eta 0:00:01\r\u001b[K    59% |███████████████████             | 583kB 60.0MB/s eta 0:00:01\r\u001b[K    60% |███████████████████▎            | 593kB 62.6MB/s eta 0:00:01\r\u001b[K    61% |███████████████████▋            | 604kB 61.9MB/s eta 0:00:01\r\u001b[K    62% |████████████████████            | 614kB 72.5MB/s eta 0:00:01\r\u001b[K    63% |████████████████████▎           | 624kB 23.3MB/s eta 0:00:01\r\u001b[K    64% |████████████████████▋           | 634kB 21.7MB/s eta 0:00:01\r\u001b[K    65% |█████████████████████           | 645kB 21.2MB/s eta 0:00:01\r\u001b[K    66% |█████████████████████▎          | 655kB 20.7MB/s eta 0:00:01\r\u001b[K    67% |█████████████████████▋          | 665kB 17.9MB/s eta 0:00:01\r\u001b[K    68% |██████████████████████          | 675kB 17.6MB/s eta 0:00:01\r\u001b[K    69% |██████████████████████▎         | 686kB 17.7MB/s eta 0:00:01\r\u001b[K    70% |██████████████████████▋         | 696kB 17.7MB/s eta 0:00:01\r\u001b[K    71% |███████████████████████         | 706kB 17.8MB/s eta 0:00:01\r\u001b[K    72% |███████████████████████▎        | 716kB 17.8MB/s eta 0:00:01\r\u001b[K    73% |███████████████████████▋        | 727kB 37.1MB/s eta 0:00:01\r\u001b[K    74% |████████████████████████        | 737kB 42.1MB/s eta 0:00:01\r\u001b[K    75% |████████████████████████▎       | 747kB 44.6MB/s eta 0:00:01\r\u001b[K    76% |████████████████████████▋       | 757kB 45.7MB/s eta 0:00:01\r\u001b[K    77% |████████████████████████▉       | 768kB 72.5MB/s eta 0:00:01\r\u001b[K    78% |█████████████████████████▏      | 778kB 78.0MB/s eta 0:00:01\r\u001b[K    79% |█████████████████████████▌      | 788kB 78.0MB/s eta 0:00:01\r\u001b[K    80% |█████████████████████████▉      | 798kB 77.0MB/s eta 0:00:01\r\u001b[K    81% |██████████████████████████▏     | 808kB 77.2MB/s eta 0:00:01\r\u001b[K    82% |██████████████████████████▌     | 819kB 77.3MB/s eta 0:00:01\r\u001b[K    83% |██████████████████████████▉     | 829kB 77.5MB/s eta 0:00:01\r\u001b[K    85% |███████████████████████████▏    | 839kB 78.3MB/s eta 0:00:01\r\u001b[K    86% |███████████████████████████▌    | 849kB 78.9MB/s eta 0:00:01\r\u001b[K    87% |███████████████████████████▉    | 860kB 61.0MB/s eta 0:00:01\r\u001b[K    88% |████████████████████████████▏   | 870kB 59.1MB/s eta 0:00:01\r\u001b[K    89% |████████████████████████████▌   | 880kB 58.5MB/s eta 0:00:01\r\u001b[K    90% |████████████████████████████▉   | 890kB 58.9MB/s eta 0:00:01\r\u001b[K    91% |█████████████████████████████▏  | 901kB 59.4MB/s eta 0:00:01\r\u001b[K    92% |█████████████████████████████▌  | 911kB 59.4MB/s eta 0:00:01\r\u001b[K    93% |█████████████████████████████▉  | 921kB 59.2MB/s eta 0:00:01\r\u001b[K    94% |██████████████████████████████▏ | 931kB 59.5MB/s eta 0:00:01\r\u001b[K    95% |██████████████████████████████▌ | 942kB 59.7MB/s eta 0:00:01\r\u001b[K    96% |██████████████████████████████▉ | 952kB 58.7MB/s eta 0:00:01\r\u001b[K    97% |███████████████████████████████▏| 962kB 77.4MB/s eta 0:00:01\r\u001b[K    98% |███████████████████████████████▌| 972kB 79.8MB/s eta 0:00:01\r\u001b[K    99% |███████████████████████████████▉| 983kB 80.9MB/s eta 0:00:01\r\u001b[K    100% |████████████████████████████████| 993kB 19.1MB/s \n",
            "\u001b[?25h  Building wheel for PyDrive (setup.py) ... \u001b[?25ldone\n",
            "\u001b[?25h"
          ],
          "name": "stdout"
        }
      ]
    },
    {
      "metadata": {
        "id": "9KDrlVSVfmtc",
        "colab_type": "code",
        "colab": {}
      },
      "cell_type": "code",
      "source": [
        "link_train = 'https://drive.google.com/open?id=1i1VPLA-aXUVAcIDC0lhou43QfU5OHPFF'\n",
        "link_test = 'https://drive.google.com/open?id=17S4Rsth14YWFtU-_iEU1KcEek4-7n-iv'"
      ],
      "execution_count": 0,
      "outputs": []
    },
    {
      "metadata": {
        "id": "4h1b31ccfm6G",
        "colab_type": "code",
        "colab": {
          "base_uri": "https://localhost:8080/",
          "height": 54
        },
        "outputId": "219abffb-f9c2-4e72-b9e6-e85c6bc05b7c"
      },
      "cell_type": "code",
      "source": [
        "_, id_train = link_train.split('=')\n",
        "_, id_test = link_test.split('=')\n",
        "\n",
        "print(id_train)\n",
        "print(id_test)"
      ],
      "execution_count": 4,
      "outputs": [
        {
          "output_type": "stream",
          "text": [
            "1i1VPLA-aXUVAcIDC0lhou43QfU5OHPFF\n",
            "17S4Rsth14YWFtU-_iEU1KcEek4-7n-iv\n"
          ],
          "name": "stdout"
        }
      ]
    },
    {
      "metadata": {
        "id": "1B5NWSEg3Owo",
        "colab_type": "code",
        "colab": {}
      },
      "cell_type": "code",
      "source": [
        "import tensorflow as tf\n",
        "import pandas as pd\n",
        "import numpy as np\n",
        "import matplotlib.pyplot as plt\n",
        "\n",
        "from sklearn.preprocessing import OneHotEncoder\n",
        "from sklearn.preprocessing import MinMaxScaler\n",
        "\n",
        "%matplotlib inline"
      ],
      "execution_count": 0,
      "outputs": []
    },
    {
      "metadata": {
        "id": "UQ-726A0E7Pw",
        "colab_type": "text"
      },
      "cell_type": "markdown",
      "source": [
        "### Load data"
      ]
    },
    {
      "metadata": {
        "id": "IO_lliNhgfKP",
        "colab_type": "code",
        "colab": {}
      },
      "cell_type": "code",
      "source": [
        "downloaded1 = drive.CreateFile({'id':id_train}) \n",
        "downloaded1.GetContentFile('mnist_train.csv')  \n",
        "train_data = pd.read_csv('mnist_train.csv', header=None)\n",
        "\n",
        "downloaded = drive.CreateFile({'id':id_test}) \n",
        "downloaded.GetContentFile('mnist_test.csv')  \n",
        "test_data = pd.read_csv('mnist_test.csv', header=None)"
      ],
      "execution_count": 0,
      "outputs": []
    },
    {
      "metadata": {
        "id": "jOi9ok75FQFa",
        "colab_type": "code",
        "colab": {
          "base_uri": "https://localhost:8080/",
          "height": 206
        },
        "outputId": "1cde301f-9de2-4e22-c429-ba742df1f073"
      },
      "cell_type": "code",
      "source": [
        "X_train = train_data.drop(train_data.columns[0], axis=1)\n",
        "y_train = train_data[0]\n",
        "\n",
        "# One hot encoded y_train label\n",
        "y_train = pd.get_dummies(train_data[0])\n",
        "y_train.head()"
      ],
      "execution_count": 15,
      "outputs": [
        {
          "output_type": "execute_result",
          "data": {
            "text/html": [
              "<div>\n",
              "<style scoped>\n",
              "    .dataframe tbody tr th:only-of-type {\n",
              "        vertical-align: middle;\n",
              "    }\n",
              "\n",
              "    .dataframe tbody tr th {\n",
              "        vertical-align: top;\n",
              "    }\n",
              "\n",
              "    .dataframe thead th {\n",
              "        text-align: right;\n",
              "    }\n",
              "</style>\n",
              "<table border=\"1\" class=\"dataframe\">\n",
              "  <thead>\n",
              "    <tr style=\"text-align: right;\">\n",
              "      <th></th>\n",
              "      <th>0</th>\n",
              "      <th>1</th>\n",
              "      <th>2</th>\n",
              "      <th>3</th>\n",
              "      <th>4</th>\n",
              "      <th>5</th>\n",
              "      <th>6</th>\n",
              "      <th>7</th>\n",
              "      <th>8</th>\n",
              "      <th>9</th>\n",
              "    </tr>\n",
              "  </thead>\n",
              "  <tbody>\n",
              "    <tr>\n",
              "      <th>0</th>\n",
              "      <td>0</td>\n",
              "      <td>0</td>\n",
              "      <td>0</td>\n",
              "      <td>0</td>\n",
              "      <td>0</td>\n",
              "      <td>1</td>\n",
              "      <td>0</td>\n",
              "      <td>0</td>\n",
              "      <td>0</td>\n",
              "      <td>0</td>\n",
              "    </tr>\n",
              "    <tr>\n",
              "      <th>1</th>\n",
              "      <td>1</td>\n",
              "      <td>0</td>\n",
              "      <td>0</td>\n",
              "      <td>0</td>\n",
              "      <td>0</td>\n",
              "      <td>0</td>\n",
              "      <td>0</td>\n",
              "      <td>0</td>\n",
              "      <td>0</td>\n",
              "      <td>0</td>\n",
              "    </tr>\n",
              "    <tr>\n",
              "      <th>2</th>\n",
              "      <td>0</td>\n",
              "      <td>0</td>\n",
              "      <td>0</td>\n",
              "      <td>0</td>\n",
              "      <td>1</td>\n",
              "      <td>0</td>\n",
              "      <td>0</td>\n",
              "      <td>0</td>\n",
              "      <td>0</td>\n",
              "      <td>0</td>\n",
              "    </tr>\n",
              "    <tr>\n",
              "      <th>3</th>\n",
              "      <td>0</td>\n",
              "      <td>1</td>\n",
              "      <td>0</td>\n",
              "      <td>0</td>\n",
              "      <td>0</td>\n",
              "      <td>0</td>\n",
              "      <td>0</td>\n",
              "      <td>0</td>\n",
              "      <td>0</td>\n",
              "      <td>0</td>\n",
              "    </tr>\n",
              "    <tr>\n",
              "      <th>4</th>\n",
              "      <td>0</td>\n",
              "      <td>0</td>\n",
              "      <td>0</td>\n",
              "      <td>0</td>\n",
              "      <td>0</td>\n",
              "      <td>0</td>\n",
              "      <td>0</td>\n",
              "      <td>0</td>\n",
              "      <td>0</td>\n",
              "      <td>1</td>\n",
              "    </tr>\n",
              "  </tbody>\n",
              "</table>\n",
              "</div>"
            ],
            "text/plain": [
              "   0  1  2  3  4  5  6  7  8  9\n",
              "0  0  0  0  0  0  1  0  0  0  0\n",
              "1  1  0  0  0  0  0  0  0  0  0\n",
              "2  0  0  0  0  1  0  0  0  0  0\n",
              "3  0  1  0  0  0  0  0  0  0  0\n",
              "4  0  0  0  0  0  0  0  0  0  1"
            ]
          },
          "metadata": {
            "tags": []
          },
          "execution_count": 15
        }
      ]
    },
    {
      "metadata": {
        "id": "0ce-SdFjFWDe",
        "colab_type": "code",
        "colab": {
          "base_uri": "https://localhost:8080/",
          "height": 206
        },
        "outputId": "bf5da0d6-412e-4682-a533-07f16f74218e"
      },
      "cell_type": "code",
      "source": [
        "X_test = test_data.drop(test_data.columns[0], axis=1)\n",
        "y_test = test_data[0]\n",
        "\n",
        "# One hot encoded for y_test label\n",
        "y_test = pd.get_dummies(test_data[0])\n",
        "y_test.head()"
      ],
      "execution_count": 16,
      "outputs": [
        {
          "output_type": "execute_result",
          "data": {
            "text/html": [
              "<div>\n",
              "<style scoped>\n",
              "    .dataframe tbody tr th:only-of-type {\n",
              "        vertical-align: middle;\n",
              "    }\n",
              "\n",
              "    .dataframe tbody tr th {\n",
              "        vertical-align: top;\n",
              "    }\n",
              "\n",
              "    .dataframe thead th {\n",
              "        text-align: right;\n",
              "    }\n",
              "</style>\n",
              "<table border=\"1\" class=\"dataframe\">\n",
              "  <thead>\n",
              "    <tr style=\"text-align: right;\">\n",
              "      <th></th>\n",
              "      <th>0</th>\n",
              "      <th>1</th>\n",
              "      <th>2</th>\n",
              "      <th>3</th>\n",
              "      <th>4</th>\n",
              "      <th>5</th>\n",
              "      <th>6</th>\n",
              "      <th>7</th>\n",
              "      <th>8</th>\n",
              "      <th>9</th>\n",
              "    </tr>\n",
              "  </thead>\n",
              "  <tbody>\n",
              "    <tr>\n",
              "      <th>0</th>\n",
              "      <td>0</td>\n",
              "      <td>0</td>\n",
              "      <td>0</td>\n",
              "      <td>0</td>\n",
              "      <td>0</td>\n",
              "      <td>0</td>\n",
              "      <td>0</td>\n",
              "      <td>1</td>\n",
              "      <td>0</td>\n",
              "      <td>0</td>\n",
              "    </tr>\n",
              "    <tr>\n",
              "      <th>1</th>\n",
              "      <td>0</td>\n",
              "      <td>0</td>\n",
              "      <td>1</td>\n",
              "      <td>0</td>\n",
              "      <td>0</td>\n",
              "      <td>0</td>\n",
              "      <td>0</td>\n",
              "      <td>0</td>\n",
              "      <td>0</td>\n",
              "      <td>0</td>\n",
              "    </tr>\n",
              "    <tr>\n",
              "      <th>2</th>\n",
              "      <td>0</td>\n",
              "      <td>1</td>\n",
              "      <td>0</td>\n",
              "      <td>0</td>\n",
              "      <td>0</td>\n",
              "      <td>0</td>\n",
              "      <td>0</td>\n",
              "      <td>0</td>\n",
              "      <td>0</td>\n",
              "      <td>0</td>\n",
              "    </tr>\n",
              "    <tr>\n",
              "      <th>3</th>\n",
              "      <td>1</td>\n",
              "      <td>0</td>\n",
              "      <td>0</td>\n",
              "      <td>0</td>\n",
              "      <td>0</td>\n",
              "      <td>0</td>\n",
              "      <td>0</td>\n",
              "      <td>0</td>\n",
              "      <td>0</td>\n",
              "      <td>0</td>\n",
              "    </tr>\n",
              "    <tr>\n",
              "      <th>4</th>\n",
              "      <td>0</td>\n",
              "      <td>0</td>\n",
              "      <td>0</td>\n",
              "      <td>0</td>\n",
              "      <td>1</td>\n",
              "      <td>0</td>\n",
              "      <td>0</td>\n",
              "      <td>0</td>\n",
              "      <td>0</td>\n",
              "      <td>0</td>\n",
              "    </tr>\n",
              "  </tbody>\n",
              "</table>\n",
              "</div>"
            ],
            "text/plain": [
              "   0  1  2  3  4  5  6  7  8  9\n",
              "0  0  0  0  0  0  0  0  1  0  0\n",
              "1  0  0  1  0  0  0  0  0  0  0\n",
              "2  0  1  0  0  0  0  0  0  0  0\n",
              "3  1  0  0  0  0  0  0  0  0  0\n",
              "4  0  0  0  0  1  0  0  0  0  0"
            ]
          },
          "metadata": {
            "tags": []
          },
          "execution_count": 16
        }
      ]
    },
    {
      "metadata": {
        "id": "KG303aXiFxmD",
        "colab_type": "text"
      },
      "cell_type": "markdown",
      "source": [
        "### Normalization"
      ]
    },
    {
      "metadata": {
        "id": "V8U2P9amFuD0",
        "colab_type": "code",
        "colab": {}
      },
      "cell_type": "code",
      "source": [
        "min_max_scaler = MinMaxScaler()"
      ],
      "execution_count": 0,
      "outputs": []
    },
    {
      "metadata": {
        "id": "vI0B3MVIFz71",
        "colab_type": "code",
        "colab": {}
      },
      "cell_type": "code",
      "source": [
        "X_train = min_max_scaler.fit_transform(X_train.values)\n",
        "y_train = min_max_scaler.fit_transform(y_train.values)\n",
        "X_test = min_max_scaler.fit_transform(X_test)\n",
        "y_test = min_max_scaler.fit_transform(y_test)"
      ],
      "execution_count": 0,
      "outputs": []
    },
    {
      "metadata": {
        "id": "y9-uGMyVF44p",
        "colab_type": "code",
        "colab": {
          "base_uri": "https://localhost:8080/",
          "height": 90
        },
        "outputId": "4fc8bdc6-c2e0-4171-d3fc-f2598e4b2b7f"
      },
      "cell_type": "code",
      "source": [
        "print('Input features: ', X_train.shape, X_train.dtype)\n",
        "print('Training labels: ', y_train.shape, y_train.dtype)\n",
        "print('Test features: ', X_test.shape, X_test.dtype)\n",
        "print('Test labels: ', y_test.shape, y_test.dtype)"
      ],
      "execution_count": 19,
      "outputs": [
        {
          "output_type": "stream",
          "text": [
            "Input features:  (60000, 784) float64\n",
            "Training labels:  (60000, 10) float64\n",
            "Test features:  (10000, 784) float64\n",
            "Test labels:  (10000, 10) float64\n"
          ],
          "name": "stdout"
        }
      ]
    },
    {
      "metadata": {
        "id": "uvFAbI9mGVYO",
        "colab_type": "text"
      },
      "cell_type": "markdown",
      "source": [
        "### Model"
      ]
    },
    {
      "metadata": {
        "id": "WeMsR7XvF90B",
        "colab_type": "code",
        "colab": {}
      },
      "cell_type": "code",
      "source": [
        "## Placeholders\n",
        "with tf.name_scope('placeholders'):\n",
        "    x = tf.placeholder(dtype=tf.float64, shape=(None,784), name='X_train')\n",
        "    y = tf.placeholder(dtype=tf.float64, shape=(None,10), name='y_label')\n",
        "\n",
        "# ## Variable\n",
        "with tf.name_scope('weights'):\n",
        "    W1 = tf.Variable(tf.random.normal((784,300), dtype=tf.float64), name='W1')\n",
        "    W2 = tf.Variable(tf.random.normal((300,100), dtype=tf.float64), name='W2')\n",
        "    W3 = tf.Variable(tf.random.normal((100,10), dtype=tf.float64), name='W3')\n"
      ],
      "execution_count": 0,
      "outputs": []
    },
    {
      "metadata": {
        "id": "tUgXdwvRGZS0",
        "colab_type": "code",
        "colab": {}
      },
      "cell_type": "code",
      "source": [
        "## Hyperparameters\n",
        "\n",
        "learning_rate = 0.01\n",
        "epochs = 100\n",
        "batch_size = 50"
      ],
      "execution_count": 0,
      "outputs": []
    },
    {
      "metadata": {
        "id": "AfsaGCiBGhu6",
        "colab_type": "code",
        "colab": {}
      },
      "cell_type": "code",
      "source": [
        "# Define Model\n",
        "def model(x):\n",
        "    # Layer 1\n",
        "    with tf.name_scope('layers'):\n",
        "        \n",
        "        layer1 = tf.matmul(x, W1)\n",
        "        layer1 = tf.nn.relu(layer1)\n",
        "\n",
        "        # Layer 2\n",
        "        layer2 = tf.matmul(layer1, W2)\n",
        "        layer2 = tf.nn.relu(layer2)\n",
        "        \n",
        "        # Output layer\n",
        "        out_layer = tf.matmul(layer2, W3)\n",
        "\n",
        "    return out_layer\n",
        "\n",
        "# Construct model\n",
        "pred = model(x)\n",
        "\n",
        "# Define loss and optimizer\n",
        "with tf.name_scope('cost'):\n",
        "    cost = tf.reduce_mean(tf.losses.softmax_cross_entropy(onehot_labels=y, logits=pred))\n",
        "    optimizer = tf.train.AdamOptimizer(learning_rate=learning_rate).minimize(cost)\n",
        "\n",
        "# Define accuracy\n",
        "with tf.name_scope('accuracy'):\n",
        "    predicted = tf.nn.sigmoid(model(x))\n",
        "    correct_pred = tf.equal(tf.round(predicted), y)\n",
        "    accuracy = tf.reduce_mean(tf.cast(correct_pred, tf.float32))\n",
        "\n",
        "# Initializing the variables\n",
        "init = tf.global_variables_initializer()\n",
        "\n",
        "# Saver\n",
        "saver = tf.train.Saver()"
      ],
      "execution_count": 0,
      "outputs": []
    },
    {
      "metadata": {
        "id": "hXmswxQQGr4R",
        "colab_type": "code",
        "colab": {
          "base_uri": "https://localhost:8080/",
          "height": 439
        },
        "outputId": "8d15c3e2-96c3-4d1c-8ae0-4d26ece11477"
      },
      "cell_type": "code",
      "source": [
        "costs = list()\n",
        "\n",
        "# Start tensor graph\n",
        "with tf.Session() as sess:\n",
        "    sess.run(init)\n",
        "#     writer = tf.summary.FileWriter('model/output_logdir', sess.graph)\n",
        "#     writer.close()\n",
        "    for epoch in range(epochs):\n",
        "        avg_cost = 0.\n",
        "        total_batch = int(len(X_train)/batch_size)\n",
        "        X_batches = np.array_split(X_train, total_batch)\n",
        "        Y_batches = np.array_split(y_train, total_batch)\n",
        "        # Loop over all batches\n",
        "        for i in range(total_batch):\n",
        "            batch_x, batch_y = X_batches[i], Y_batches[i]\n",
        "            _, c = sess.run([optimizer, cost], feed_dict={x: batch_x,\n",
        "                                                         y: batch_y})\n",
        "            \n",
        "            avg_cost += c / total_batch \n",
        "        costs.append(avg_cost)\n",
        "        # Display logs per epoch step\n",
        "        if epoch % 5 == 0:\n",
        "            print(\"Epoch:\", '%04d' % (epoch+1), \"cost=\", \"{:.9f}\".format(avg_cost))\n",
        "            \n",
        "            \n",
        "    print(\"Optimization Finished!\")\n",
        "    \n",
        "    print(\"Training accuracy: \", sess.run(accuracy, feed_dict={x: X_train, y: y_train}))\n",
        "    print(\"Testing accuracy: \", sess.run(accuracy, feed_dict={x: X_test, y: y_test}))\n",
        "    \n",
        "#     save_path = saver.save(sess, \"model/model.ckpt\")\n",
        "#     print(\"Model saved in path: %s\" % save_path)"
      ],
      "execution_count": 27,
      "outputs": [
        {
          "output_type": "stream",
          "text": [
            "Epoch: 0001 cost= 16.140677751\n",
            "Epoch: 0006 cost= 0.412164340\n",
            "Epoch: 0011 cost= 0.258099262\n",
            "Epoch: 0016 cost= 0.212582661\n",
            "Epoch: 0021 cost= 0.183055307\n",
            "Epoch: 0026 cost= 0.217773568\n",
            "Epoch: 0031 cost= 0.186662183\n",
            "Epoch: 0036 cost= 0.158177555\n",
            "Epoch: 0041 cost= 0.169616830\n",
            "Epoch: 0046 cost= 0.177023781\n",
            "Epoch: 0051 cost= 0.200720518\n",
            "Epoch: 0056 cost= 0.172893145\n",
            "Epoch: 0061 cost= 0.200978936\n",
            "Epoch: 0066 cost= 0.219655433\n",
            "Epoch: 0071 cost= 0.208160063\n",
            "Epoch: 0076 cost= 0.207172972\n",
            "Epoch: 0081 cost= 0.171785262\n",
            "Epoch: 0086 cost= 0.203696246\n",
            "Epoch: 0091 cost= 0.238922701\n",
            "Epoch: 0096 cost= 0.241595863\n",
            "Optimization Finished!\n",
            "Training accuracy:  0.36516\n",
            "Testing accuracy:  0.36955\n"
          ],
          "name": "stdout"
        }
      ]
    },
    {
      "metadata": {
        "id": "LE-tLAwVivZ4",
        "colab_type": "code",
        "colab": {}
      },
      "cell_type": "code",
      "source": [
        ""
      ],
      "execution_count": 0,
      "outputs": []
    }
  ]
}
>>>>>>> 0a30a83096f4a57a2f362f65949056ff4ea91b85
