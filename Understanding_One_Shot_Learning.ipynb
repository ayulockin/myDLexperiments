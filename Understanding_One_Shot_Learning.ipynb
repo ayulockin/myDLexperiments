{
  "nbformat": 4,
  "nbformat_minor": 0,
  "metadata": {
    "colab": {
      "name": "Understanding One-Shot Learning",
      "provenance": [],
      "include_colab_link": true
    },
    "kernelspec": {
      "name": "python3",
      "display_name": "Python 3"
    }
  },
  "cells": [
    {
      "cell_type": "markdown",
      "metadata": {
        "id": "view-in-github",
        "colab_type": "text"
      },
      "source": [
        "<a href=\"https://colab.research.google.com/github/ayulockin/myDLexperiments/blob/master/Understanding_One_Shot_Learning.ipynb\" target=\"_parent\"><img src=\"https://colab.research.google.com/assets/colab-badge.svg\" alt=\"Open In Colab\"/></a>"
      ]
    },
    {
      "cell_type": "markdown",
      "metadata": {
        "id": "GjbWqduzbmwk",
        "colab_type": "text"
      },
      "source": [
        "Inspired by this video: https://www.youtube.com/watch?v=H4MPIWX6ftE&t=414s <br>\n",
        "Refered this code: https://github.com/lukas/ml-class/blob/master/videos/one-shot/One%20Shot.ipynb"
      ]
    },
    {
      "cell_type": "code",
      "metadata": {
        "id": "JPI_pFRIcAau",
        "colab_type": "code",
        "colab": {
          "base_uri": "https://localhost:8080/",
          "height": 128
        },
        "outputId": "45644b8e-154c-4aab-dfec-e38bd0d70258"
      },
      "source": [
        "!pip install tensorflow==2.0.0 -q"
      ],
      "execution_count": 1,
      "outputs": [
        {
          "output_type": "stream",
          "text": [
            "\u001b[K     |████████████████████████████████| 86.3MB 67kB/s \n",
            "\u001b[K     |████████████████████████████████| 3.8MB 45.0MB/s \n",
            "\u001b[K     |████████████████████████████████| 450kB 59.0MB/s \n",
            "\u001b[K     |████████████████████████████████| 81kB 11.1MB/s \n",
            "\u001b[31mERROR: tensorboard 2.0.2 has requirement grpcio>=1.24.3, but you'll have grpcio 1.15.0 which is incompatible.\u001b[0m\n",
            "\u001b[31mERROR: google-colab 1.0.0 has requirement google-auth~=1.4.0, but you'll have google-auth 1.10.0 which is incompatible.\u001b[0m\n",
            "\u001b[?25h"
          ],
          "name": "stdout"
        }
      ]
    },
    {
      "cell_type": "code",
      "metadata": {
        "id": "IcmTGib2cXLL",
        "colab_type": "code",
        "colab": {
          "base_uri": "https://localhost:8080/",
          "height": 35
        },
        "outputId": "d078e89a-456f-48bd-9cee-008dad365fd7"
      },
      "source": [
        "import tensorflow as tf\n",
        "print(tf.__version__)"
      ],
      "execution_count": 2,
      "outputs": [
        {
          "output_type": "stream",
          "text": [
            "2.0.0\n"
          ],
          "name": "stdout"
        }
      ]
    },
    {
      "cell_type": "code",
      "metadata": {
        "id": "8p96H-FVa7_w",
        "colab_type": "code",
        "colab": {}
      },
      "source": [
        "import random\n",
        "import numpy as np"
      ],
      "execution_count": 0,
      "outputs": []
    },
    {
      "cell_type": "code",
      "metadata": {
        "id": "Futwbc-UcdsT",
        "colab_type": "code",
        "colab": {
          "base_uri": "https://localhost:8080/",
          "height": 72
        },
        "outputId": "6423efe8-544d-468d-c1db-08995cbf546a"
      },
      "source": [
        "from keras.datasets import mnist\n",
        "\n",
        "(x_train, y_train), (x_test, y_test) = mnist.load_data()\n",
        "\n",
        "x_train = x_train/255.0\n",
        "x_test = x_test/255.0"
      ],
      "execution_count": 4,
      "outputs": [
        {
          "output_type": "stream",
          "text": [
            "Using TensorFlow backend.\n"
          ],
          "name": "stderr"
        },
        {
          "output_type": "stream",
          "text": [
            "Downloading data from https://s3.amazonaws.com/img-datasets/mnist.npz\n",
            "11493376/11490434 [==============================] - 1s 0us/step\n"
          ],
          "name": "stdout"
        }
      ]
    },
    {
      "cell_type": "code",
      "metadata": {
        "id": "Qzc8IZR2cuNt",
        "colab_type": "code",
        "colab": {
          "base_uri": "https://localhost:8080/",
          "height": 91
        },
        "outputId": "b55e2b35-4832-4264-fe49-d34097d4d0cf"
      },
      "source": [
        "print(\"X_train: \", x_train.shape)\n",
        "print(\"y_train: \", y_train.shape)\n",
        "print(\"X_test: \", x_test.shape)\n",
        "print(\"y_test: \", y_test.shape)"
      ],
      "execution_count": 5,
      "outputs": [
        {
          "output_type": "stream",
          "text": [
            "X_train:  (60000, 28, 28)\n",
            "y_train:  (60000,)\n",
            "X_test:  (10000, 28, 28)\n",
            "y_test:  (10000,)\n"
          ],
          "name": "stdout"
        }
      ]
    },
    {
      "cell_type": "markdown",
      "metadata": {
        "id": "92dbUlJoc3s0",
        "colab_type": "text"
      },
      "source": [
        "One shot learning is usually applied when we are limited with training data. We build a pair of images and assign it a label which is either 0 or 1 which denotes with they are not similar or similar respectively. As you can understand that we are able to classify using few examples. We concretely know that one example belong to a particular label. Other images can be either similar or not similar to that concrete example. \n",
        "\n",
        "Siamese network is one such network we will build here. "
      ]
    },
    {
      "cell_type": "code",
      "metadata": {
        "id": "PtTXf2CacyFp",
        "colab_type": "code",
        "colab": {}
      },
      "source": [
        "# make pairs\n",
        "def make_pairs(x, y, num_classes):\n",
        "    num_classes = num_classes\n",
        "    digit_indices = [np.where(y == i)[0] for i in range(num_classes)]\n",
        "\n",
        "    pairs = []\n",
        "    labels = []\n",
        "\n",
        "    for idx1 in range(len(x)):\n",
        "        # add a matching example\n",
        "        x1 = x[idx1]\n",
        "        label1 = y[idx1]\n",
        "        idx2 = random.choice(digit_indices[label1])\n",
        "        x2 = x[idx2]\n",
        "        \n",
        "        pairs += [[x1, x2]]\n",
        "        labels += [1]\n",
        "    \n",
        "        # add a not matching example\n",
        "        label2 = random.randint(0, num_classes-1)\n",
        "        while label2 == label1:\n",
        "            label2 = random.randint(0, num_classes-1)\n",
        "\n",
        "        idx2 = random.choice(digit_indices[label2])\n",
        "        x2 = x[idx2]\n",
        "        \n",
        "        pairs += [[x1, x2]]\n",
        "        labels += [0]\n",
        "\n",
        "    return np.array(pairs), np.array(labels)"
      ],
      "execution_count": 0,
      "outputs": []
    },
    {
      "cell_type": "code",
      "metadata": {
        "id": "ejzYFbC4g3zW",
        "colab_type": "code",
        "colab": {}
      },
      "source": [
        "pairs_train, labels_train = make_pairs(x_train, y_train, 10)\n",
        "pairs_test, labels_test = make_pairs(x_test, y_test, 10)"
      ],
      "execution_count": 0,
      "outputs": []
    },
    {
      "cell_type": "code",
      "metadata": {
        "id": "KTyHdgpKg_WQ",
        "colab_type": "code",
        "colab": {
          "base_uri": "https://localhost:8080/",
          "height": 91
        },
        "outputId": "f40dc64a-793d-4ac8-c053-5df991ea64e7"
      },
      "source": [
        "print(\"X_train_pair: \", pairs_train.shape)\n",
        "print(\"y_train_pair: \", labels_train.shape)\n",
        "print(\"X_test_pair: \", pairs_test.shape)\n",
        "print(\"y_test_pair: \", labels_test.shape)"
      ],
      "execution_count": 8,
      "outputs": [
        {
          "output_type": "stream",
          "text": [
            "X_train_pair:  (120000, 2, 28, 28)\n",
            "y_train_pair:  (120000,)\n",
            "X_test_pair:  (20000, 2, 28, 28)\n",
            "y_test_pair:  (20000,)\n"
          ],
          "name": "stdout"
        }
      ]
    },
    {
      "cell_type": "markdown",
      "metadata": {
        "id": "jjuFdFjyhluR",
        "colab_type": "text"
      },
      "source": [
        "Let's visualize pairs"
      ]
    },
    {
      "cell_type": "code",
      "metadata": {
        "id": "q1ME4db_hlD6",
        "colab_type": "code",
        "colab": {}
      },
      "source": [
        "import matplotlib.pyplot as plt\n",
        "\n",
        "%matplotlib inline"
      ],
      "execution_count": 0,
      "outputs": []
    },
    {
      "cell_type": "code",
      "metadata": {
        "id": "ZHdYwepehLWZ",
        "colab_type": "code",
        "colab": {
          "base_uri": "https://localhost:8080/",
          "height": 559
        },
        "outputId": "940e5a4f-3dd4-4b3e-e595-05e875eae32e"
      },
      "source": [
        "# take a peek at the data\n",
        "rows = 4\n",
        "cols = 2\n",
        "\n",
        "# sample_pairs = [random.randint(0, pairs_train.shape[0]) for _ in range(rows)]\n",
        "sample_pairs = [1,2,3,4]\n",
        "\n",
        "\n",
        "fig, axs = plt.subplots(nrows=rows, ncols=cols, figsize=(8,8))\n",
        "for row in range(rows):\n",
        "  axs[row][0].imshow(pairs_train[sample_pairs[row],0])\n",
        "  axs[row][1].imshow(pairs_train[sample_pairs[row],1])\n",
        "  print('Label for the pair in row {} is: {}'.format(row, labels_train[sample_pairs[row]]))"
      ],
      "execution_count": 31,
      "outputs": [
        {
          "output_type": "stream",
          "text": [
            "Label for the pair in row 0 is: 0\n",
            "Label for the pair in row 1 is: 1\n",
            "Label for the pair in row 2 is: 0\n",
            "Label for the pair in row 3 is: 1\n"
          ],
          "name": "stdout"
        },
        {
          "output_type": "display_data",
          "data": {
            "image/png": "[encoded data removed]",
            "text/plain": [
              "<Figure size 576x576 with 8 Axes>"
            ]
          },
          "metadata": {
            "tags": []
          }
        }
      ]
    },
    {
      "cell_type": "code",
      "metadata": {
        "id": "Veihe_hEunTx",
        "colab_type": "code",
        "colab": {}
      },
      "source": [
        "from tensorflow.keras import backend as K"
      ],
      "execution_count": 0,
      "outputs": []
    },
    {
      "cell_type": "markdown",
      "metadata": {
        "id": "WPM0e6TcpX9s",
        "colab_type": "text"
      },
      "source": [
        "## Without weight sharing. \n",
        "\n",
        "After all the set of transformations on one image by one leg should be same on other image. And then the decision of similarity makes sense."
      ]
    },
    {
      "cell_type": "code",
      "metadata": {
        "id": "mW5HfLWbhw5Y",
        "colab_type": "code",
        "colab": {}
      },
      "source": [
        "K.clear_session()\n",
        "\n",
        "seq1 = tf.keras.models.Sequential()\n",
        "seq1.add(tf.keras.layers.Flatten(input_shape=(28,28)))\n",
        "seq1.add(tf.keras.layers.Dense(128, activation='relu'))\n",
        "\n",
        "seq2 = tf.keras.models.Sequential()\n",
        "seq2.add(tf.keras.layers.Flatten(input_shape=(28,28)))\n",
        "seq2.add(tf.keras.layers.Dense(128, activation='relu'))\n",
        "\n",
        "merge_layer = tf.keras.layers.Concatenate()([seq1.output, seq2.output])\n",
        "dense_layer = tf.keras.layers.Dense(1, activation=\"sigmoid\")(merge_layer)\n",
        "model = tf.keras.models.Model(inputs=[seq1.input, seq2.input], outputs=dense_layer)"
      ],
      "execution_count": 0,
      "outputs": []
    },
    {
      "cell_type": "code",
      "metadata": {
        "id": "_cEVB2yEnl7K",
        "colab_type": "code",
        "colab": {
          "base_uri": "https://localhost:8080/",
          "height": 479
        },
        "outputId": "b0e1d683-13c2-43f3-fb31-4bca4528ea4c"
      },
      "source": [
        "model.summary()"
      ],
      "execution_count": 13,
      "outputs": [
        {
          "output_type": "stream",
          "text": [
            "Model: \"model\"\n",
            "__________________________________________________________________________________________________\n",
            "Layer (type)                    Output Shape         Param #     Connected to                     \n",
            "==================================================================================================\n",
            "flatten_input (InputLayer)      [(None, 28, 28)]     0                                            \n",
            "__________________________________________________________________________________________________\n",
            "flatten_1_input (InputLayer)    [(None, 28, 28)]     0                                            \n",
            "__________________________________________________________________________________________________\n",
            "flatten (Flatten)               (None, 784)          0           flatten_input[0][0]              \n",
            "__________________________________________________________________________________________________\n",
            "flatten_1 (Flatten)             (None, 784)          0           flatten_1_input[0][0]            \n",
            "__________________________________________________________________________________________________\n",
            "dense (Dense)                   (None, 128)          100480      flatten[0][0]                    \n",
            "__________________________________________________________________________________________________\n",
            "dense_1 (Dense)                 (None, 128)          100480      flatten_1[0][0]                  \n",
            "__________________________________________________________________________________________________\n",
            "concatenate (Concatenate)       (None, 256)          0           dense[0][0]                      \n",
            "                                                                 dense_1[0][0]                    \n",
            "__________________________________________________________________________________________________\n",
            "dense_2 (Dense)                 (None, 1)            257         concatenate[0][0]                \n",
            "==================================================================================================\n",
            "Total params: 201,217\n",
            "Trainable params: 201,217\n",
            "Non-trainable params: 0\n",
            "__________________________________________________________________________________________________\n"
          ],
          "name": "stdout"
        }
      ]
    },
    {
      "cell_type": "code",
      "metadata": {
        "id": "-xmSKO5annq2",
        "colab_type": "code",
        "colab": {}
      },
      "source": [
        "model.compile(loss = \"binary_crossentropy\", optimizer=\"adam\", metrics=[\"accuracy\"])"
      ],
      "execution_count": 0,
      "outputs": []
    },
    {
      "cell_type": "code",
      "metadata": {
        "id": "MtNa9jAioGUq",
        "colab_type": "code",
        "colab": {
          "base_uri": "https://localhost:8080/",
          "height": 220
        },
        "outputId": "249af7bc-47ba-4260-a3ca-3cf7084f684e"
      },
      "source": [
        "hist = model.fit([pairs_train[:,0], pairs_train[:,1]], labels_train[:], batch_size=256, epochs= 5)"
      ],
      "execution_count": 15,
      "outputs": [
        {
          "output_type": "stream",
          "text": [
            "Train on 120000 samples\n",
            "Epoch 1/5\n",
            "120000/120000 [==============================] - 6s 47us/sample - loss: 0.6962 - accuracy: 0.5006\n",
            "Epoch 2/5\n",
            "120000/120000 [==============================] - 5s 40us/sample - loss: 0.6928 - accuracy: 0.5182\n",
            "Epoch 3/5\n",
            "120000/120000 [==============================] - 5s 39us/sample - loss: 0.6922 - accuracy: 0.5181\n",
            "Epoch 4/5\n",
            "120000/120000 [==============================] - 5s 40us/sample - loss: 0.6916 - accuracy: 0.5241\n",
            "Epoch 5/5\n",
            "120000/120000 [==============================] - 5s 40us/sample - loss: 0.6908 - accuracy: 0.5274\n"
          ],
          "name": "stdout"
        }
      ]
    },
    {
      "cell_type": "markdown",
      "metadata": {
        "id": "IxOvtFlPplqf",
        "colab_type": "text"
      },
      "source": [
        "It appears that even after being trained on so so many examples it learned nothing. It's random guessing.\n",
        "\n",
        "## Weight sharing"
      ]
    },
    {
      "cell_type": "code",
      "metadata": {
        "id": "pIE8nUGhoMSF",
        "colab_type": "code",
        "colab": {}
      },
      "source": [
        "K.clear_session()\n",
        "\n",
        "input = tf.keras.layers.Input((28,28))\n",
        "x = tf.keras.layers.Flatten()(input)\n",
        "x = tf.keras.layers.Dense(128, activation='relu')(x)\n",
        "dense = tf.keras.models.Model(input, x)\n",
        "\n",
        "input1 = tf.keras.layers.Input((28,28))\n",
        "input2 = tf.keras.layers.Input((28,28))\n",
        "\n",
        "dense1 = dense(input1)\n",
        "dense2 = dense(input2)\n",
        "\n",
        "merge_layer = tf.keras.layers.Concatenate()([dense1, dense2])\n",
        "dense_layer = tf.keras.layers.Dense(1, activation=\"sigmoid\")(merge_layer)\n",
        "model = tf.keras.models.Model(inputs=[input1, input2], outputs=dense_layer)"
      ],
      "execution_count": 0,
      "outputs": []
    },
    {
      "cell_type": "code",
      "metadata": {
        "id": "1I8XFDMmqd7c",
        "colab_type": "code",
        "colab": {
          "base_uri": "https://localhost:8080/",
          "height": 387
        },
        "outputId": "c21ec715-a564-44d6-fd33-8fccd28f2f83"
      },
      "source": [
        "model.summary()"
      ],
      "execution_count": 17,
      "outputs": [
        {
          "output_type": "stream",
          "text": [
            "Model: \"model_1\"\n",
            "__________________________________________________________________________________________________\n",
            "Layer (type)                    Output Shape         Param #     Connected to                     \n",
            "==================================================================================================\n",
            "input_2 (InputLayer)            [(None, 28, 28)]     0                                            \n",
            "__________________________________________________________________________________________________\n",
            "input_3 (InputLayer)            [(None, 28, 28)]     0                                            \n",
            "__________________________________________________________________________________________________\n",
            "model (Model)                   (None, 128)          100480      input_2[0][0]                    \n",
            "                                                                 input_3[0][0]                    \n",
            "__________________________________________________________________________________________________\n",
            "concatenate (Concatenate)       (None, 256)          0           model[1][0]                      \n",
            "                                                                 model[2][0]                      \n",
            "__________________________________________________________________________________________________\n",
            "dense_1 (Dense)                 (None, 1)            257         concatenate[0][0]                \n",
            "==================================================================================================\n",
            "Total params: 100,737\n",
            "Trainable params: 100,737\n",
            "Non-trainable params: 0\n",
            "__________________________________________________________________________________________________\n"
          ],
          "name": "stdout"
        }
      ]
    },
    {
      "cell_type": "code",
      "metadata": {
        "id": "cQiRy0SZq8li",
        "colab_type": "code",
        "colab": {}
      },
      "source": [
        "model.compile(loss = \"binary_crossentropy\", optimizer=\"adam\", metrics=[\"accuracy\"])"
      ],
      "execution_count": 0,
      "outputs": []
    },
    {
      "cell_type": "code",
      "metadata": {
        "id": "hC4q-BWUqf85",
        "colab_type": "code",
        "colab": {
          "base_uri": "https://localhost:8080/",
          "height": 220
        },
        "outputId": "ba089eb1-51b0-4e40-f88c-163fed61ad3d"
      },
      "source": [
        "hist = model.fit([pairs_train[:,0], pairs_train[:,1]], labels_train[:], batch_size=256, epochs=5)"
      ],
      "execution_count": 19,
      "outputs": [
        {
          "output_type": "stream",
          "text": [
            "Train on 120000 samples\n",
            "Epoch 1/5\n",
            "120000/120000 [==============================] - 5s 44us/sample - loss: 0.6962 - accuracy: 0.4987\n",
            "Epoch 2/5\n",
            "120000/120000 [==============================] - 5s 40us/sample - loss: 0.6930 - accuracy: 0.5106\n",
            "Epoch 3/5\n",
            "120000/120000 [==============================] - 5s 40us/sample - loss: 0.6925 - accuracy: 0.5205\n",
            "Epoch 4/5\n",
            "120000/120000 [==============================] - 5s 39us/sample - loss: 0.6923 - accuracy: 0.5216\n",
            "Epoch 5/5\n",
            "120000/120000 [==============================] - 5s 40us/sample - loss: 0.6917 - accuracy: 0.5281\n"
          ],
          "name": "stdout"
        }
      ]
    },
    {
      "cell_type": "markdown",
      "metadata": {
        "id": "kzFP2oiXrKH5",
        "colab_type": "text"
      },
      "source": [
        "## Custom ops-Euclidean Distance\n",
        "\n",
        "Both images are transformed by a single network(shared weights) thus some sort of distance separation should be performed between different embedding of image pairs.  "
      ]
    },
    {
      "cell_type": "code",
      "metadata": {
        "id": "2Ksl2Bbrq6qE",
        "colab_type": "code",
        "colab": {}
      },
      "source": [
        "K.clear_session()\n",
        "\n",
        "def euclidean_distance(vects):\n",
        "    x, y = vects\n",
        "    sum_square = K.sum(K.square(x - y), axis=1, keepdims=True)\n",
        "    return K.sqrt(K.maximum(sum_square, K.epsilon()))\n",
        "\n",
        "\n",
        "input = tf.keras.layers.Input((28,28))\n",
        "x = tf.keras.layers.Flatten()(input)\n",
        "x = tf.keras.layers.Dense(128, activation='relu')(x)\n",
        "dense = tf.keras.models.Model(input, x)\n",
        "\n",
        "input1 = tf.keras.layers.Input((28,28))\n",
        "input2 = tf.keras.layers.Input((28,28))\n",
        "\n",
        "dense1 = dense(input1)\n",
        "dense2 = dense(input2)\n",
        "\n",
        "merge_layer = tf.keras.layers.Lambda(euclidean_distance)([dense1,dense2])\n",
        "dense_layer = tf.keras.layers.Dense(1, activation=\"sigmoid\")(merge_layer)\n",
        "model = tf.keras.models.Model(inputs=[input1, input2], outputs=dense_layer)"
      ],
      "execution_count": 0,
      "outputs": []
    },
    {
      "cell_type": "code",
      "metadata": {
        "id": "KM7wnSh5tOV3",
        "colab_type": "code",
        "colab": {
          "base_uri": "https://localhost:8080/",
          "height": 387
        },
        "outputId": "071d989e-1eb4-4911-9bef-31b95b1ddf3c"
      },
      "source": [
        "model.summary()"
      ],
      "execution_count": 21,
      "outputs": [
        {
          "output_type": "stream",
          "text": [
            "Model: \"model_1\"\n",
            "__________________________________________________________________________________________________\n",
            "Layer (type)                    Output Shape         Param #     Connected to                     \n",
            "==================================================================================================\n",
            "input_2 (InputLayer)            [(None, 28, 28)]     0                                            \n",
            "__________________________________________________________________________________________________\n",
            "input_3 (InputLayer)            [(None, 28, 28)]     0                                            \n",
            "__________________________________________________________________________________________________\n",
            "model (Model)                   (None, 128)          100480      input_2[0][0]                    \n",
            "                                                                 input_3[0][0]                    \n",
            "__________________________________________________________________________________________________\n",
            "lambda (Lambda)                 (None, 1)            0           model[1][0]                      \n",
            "                                                                 model[2][0]                      \n",
            "__________________________________________________________________________________________________\n",
            "dense_1 (Dense)                 (None, 1)            2           lambda[0][0]                     \n",
            "==================================================================================================\n",
            "Total params: 100,482\n",
            "Trainable params: 100,482\n",
            "Non-trainable params: 0\n",
            "__________________________________________________________________________________________________\n"
          ],
          "name": "stdout"
        }
      ]
    },
    {
      "cell_type": "code",
      "metadata": {
        "id": "uY18R4JstvBA",
        "colab_type": "code",
        "colab": {}
      },
      "source": [
        "model.compile(loss = \"binary_crossentropy\", optimizer=\"adam\", metrics=[\"accuracy\"])"
      ],
      "execution_count": 0,
      "outputs": []
    },
    {
      "cell_type": "code",
      "metadata": {
        "id": "Gdt0aDfrt7JE",
        "colab_type": "code",
        "colab": {
          "base_uri": "https://localhost:8080/",
          "height": 220
        },
        "outputId": "be94cf2a-f4ba-4985-a33c-159de19702e1"
      },
      "source": [
        "hist = model.fit([pairs_train[:,0], pairs_train[:,1]], labels_train[:], batch_size=256, epochs=5)"
      ],
      "execution_count": 23,
      "outputs": [
        {
          "output_type": "stream",
          "text": [
            "Train on 120000 samples\n",
            "Epoch 1/5\n",
            "120000/120000 [==============================] - 5s 45us/sample - loss: 0.7119 - accuracy: 0.4989\n",
            "Epoch 2/5\n",
            "120000/120000 [==============================] - 5s 41us/sample - loss: 0.6933 - accuracy: 0.4992\n",
            "Epoch 3/5\n",
            "120000/120000 [==============================] - 5s 45us/sample - loss: 0.6932 - accuracy: 0.4993\n",
            "Epoch 4/5\n",
            "120000/120000 [==============================] - 5s 41us/sample - loss: 0.6932 - accuracy: 0.4969\n",
            "Epoch 5/5\n",
            "120000/120000 [==============================] - 5s 45us/sample - loss: 0.6931 - accuracy: 0.4992\n"
          ],
          "name": "stdout"
        }
      ]
    },
    {
      "cell_type": "code",
      "metadata": {
        "id": "9LDDumxCt-KM",
        "colab_type": "code",
        "colab": {}
      },
      "source": [
        "K.clear_session()\n",
        "\n",
        "def euclidean_distance(vects):\n",
        "    x, y = vects\n",
        "    sum_square = K.sum(K.square(x - y), axis=1, keepdims=True)\n",
        "    return K.sqrt(K.maximum(sum_square, K.epsilon()))\n",
        "\n",
        "\n",
        "input = tf.keras.layers.Input((28,28,1))\n",
        "x = tf.keras.layers.Conv2D(32, (3,3), activation='relu')(input)\n",
        "x = tf.keras.layers.MaxPool2D((2,2))(x)\n",
        "x = tf.keras.layers.Conv2D(32, (3,3), activation='relu')(x)\n",
        "x = tf.keras.layers.MaxPool2D((2,2))(x)\n",
        "x = tf.keras.layers.Flatten()(x)\n",
        "x = tf.keras.layers.Dense(512, activation='relu')(x)\n",
        "x = tf.keras.layers.Dense(128, activation='relu')(x)\n",
        "dense = tf.keras.models.Model(input, x)\n",
        "\n",
        "input1 = tf.keras.layers.Input((28,28,1))\n",
        "input2 = tf.keras.layers.Input((28,28,1))\n",
        "\n",
        "dense1 = dense(input1)\n",
        "dense2 = dense(input2)\n",
        "\n",
        "merge_layer = tf.keras.layers.Lambda(euclidean_distance)([dense1,dense2])\n",
        "dense_layer = tf.keras.layers.Dense(1, activation=\"sigmoid\")(merge_layer)\n",
        "model = tf.keras.models.Model(inputs=[input1, input2], outputs=dense_layer)"
      ],
      "execution_count": 0,
      "outputs": []
    },
    {
      "cell_type": "code",
      "metadata": {
        "id": "Rh5SYTJj990j",
        "colab_type": "code",
        "colab": {
          "base_uri": "https://localhost:8080/",
          "height": 461
        },
        "outputId": "3bfc608d-25dc-49a7-fdcb-cc0c8aec99bf"
      },
      "source": [
        "dense.summary()"
      ],
      "execution_count": 36,
      "outputs": [
        {
          "output_type": "stream",
          "text": [
            "Model: \"model\"\n",
            "_________________________________________________________________\n",
            "Layer (type)                 Output Shape              Param #   \n",
            "=================================================================\n",
            "input_1 (InputLayer)         [(None, 28, 28, 1)]       0         \n",
            "_________________________________________________________________\n",
            "conv2d (Conv2D)              (None, 26, 26, 32)        320       \n",
            "_________________________________________________________________\n",
            "max_pooling2d (MaxPooling2D) (None, 13, 13, 32)        0         \n",
            "_________________________________________________________________\n",
            "conv2d_1 (Conv2D)            (None, 11, 11, 32)        9248      \n",
            "_________________________________________________________________\n",
            "max_pooling2d_1 (MaxPooling2 (None, 5, 5, 32)          0         \n",
            "_________________________________________________________________\n",
            "flatten (Flatten)            (None, 800)               0         \n",
            "_________________________________________________________________\n",
            "dense (Dense)                (None, 512)               410112    \n",
            "_________________________________________________________________\n",
            "dense_1 (Dense)              (None, 128)               65664     \n",
            "=================================================================\n",
            "Total params: 485,344\n",
            "Trainable params: 485,344\n",
            "Non-trainable params: 0\n",
            "_________________________________________________________________\n"
          ],
          "name": "stdout"
        }
      ]
    },
    {
      "cell_type": "code",
      "metadata": {
        "id": "8TeTsC670qh_",
        "colab_type": "code",
        "colab": {
          "base_uri": "https://localhost:8080/",
          "height": 387
        },
        "outputId": "74b67b13-a85a-4838-97c7-f1f11745c180"
      },
      "source": [
        "model.summary()"
      ],
      "execution_count": 35,
      "outputs": [
        {
          "output_type": "stream",
          "text": [
            "Model: \"model_1\"\n",
            "__________________________________________________________________________________________________\n",
            "Layer (type)                    Output Shape         Param #     Connected to                     \n",
            "==================================================================================================\n",
            "input_2 (InputLayer)            [(None, 28, 28, 1)]  0                                            \n",
            "__________________________________________________________________________________________________\n",
            "input_3 (InputLayer)            [(None, 28, 28, 1)]  0                                            \n",
            "__________________________________________________________________________________________________\n",
            "model (Model)                   (None, 128)          485344      input_2[0][0]                    \n",
            "                                                                 input_3[0][0]                    \n",
            "__________________________________________________________________________________________________\n",
            "lambda (Lambda)                 (None, 1)            0           model[1][0]                      \n",
            "                                                                 model[2][0]                      \n",
            "__________________________________________________________________________________________________\n",
            "dense_2 (Dense)                 (None, 1)            2           lambda[0][0]                     \n",
            "==================================================================================================\n",
            "Total params: 485,346\n",
            "Trainable params: 485,346\n",
            "Non-trainable params: 0\n",
            "__________________________________________________________________________________________________\n"
          ],
          "name": "stdout"
        }
      ]
    },
    {
      "cell_type": "code",
      "metadata": {
        "id": "hB0ikmgg01i3",
        "colab_type": "code",
        "colab": {}
      },
      "source": [
        "pairs_train_copy = pairs_train.reshape((pairs_train.shape+(1,)))\n",
        "pairs_test_copy = pairs_test.reshape((pairs_test.shape+(1,)))\n",
        "labels_train_copy = labels_train\n",
        "labels_test_copy = labels_test"
      ],
      "execution_count": 0,
      "outputs": []
    },
    {
      "cell_type": "code",
      "metadata": {
        "id": "Sql_MlYk2XKl",
        "colab_type": "code",
        "colab": {
          "base_uri": "https://localhost:8080/",
          "height": 91
        },
        "outputId": "258c82f1-1f7c-4863-86db-739c77799e98"
      },
      "source": [
        "print(\"X_train_pair: \", pairs_train_copy.shape)\n",
        "print(\"y_train_pair: \", labels_train_copy.shape)\n",
        "print(\"X_test_pair: \", pairs_test_copy.shape)\n",
        "print(\"y_test_pair: \", labels_test_copy.shape)"
      ],
      "execution_count": 38,
      "outputs": [
        {
          "output_type": "stream",
          "text": [
            "X_train_pair:  (120000, 2, 28, 28, 1)\n",
            "y_train_pair:  (120000,)\n",
            "X_test_pair:  (20000, 2, 28, 28, 1)\n",
            "y_test_pair:  (20000,)\n"
          ],
          "name": "stdout"
        }
      ]
    },
    {
      "cell_type": "code",
      "metadata": {
        "id": "OZ7NfPBc2hMa",
        "colab_type": "code",
        "colab": {}
      },
      "source": [
        "model.compile(loss = \"binary_crossentropy\", optimizer=\"adam\", metrics=[\"accuracy\"])"
      ],
      "execution_count": 0,
      "outputs": []
    },
    {
      "cell_type": "code",
      "metadata": {
        "id": "Uhp3DAbF2717",
        "colab_type": "code",
        "colab": {
          "base_uri": "https://localhost:8080/",
          "height": 146
        },
        "outputId": "760d3886-feda-4e2b-bde5-60bfb07b6cdf"
      },
      "source": [
        "hist = model.fit([pairs_train_copy[:,0], pairs_train_copy[:,1]], labels_train_copy[:], batch_size=256, epochs=3)"
      ],
      "execution_count": 40,
      "outputs": [
        {
          "output_type": "stream",
          "text": [
            "Train on 120000 samples\n",
            "Epoch 1/3\n",
            "120000/120000 [==============================] - 160s 1ms/sample - loss: 0.4628 - accuracy: 0.7250\n",
            "Epoch 2/3\n",
            "120000/120000 [==============================] - 160s 1ms/sample - loss: 0.3008 - accuracy: 0.9537\n",
            "Epoch 3/3\n",
            "120000/120000 [==============================] - 160s 1ms/sample - loss: 0.2128 - accuracy: 0.9789\n"
          ],
          "name": "stdout"
        }
      ]
    },
    {
      "cell_type": "code",
      "metadata": {
        "id": "GehArBur3DeG",
        "colab_type": "code",
        "colab": {}
      },
      "source": [
        ""
      ],
      "execution_count": 0,
      "outputs": []
    }
  ]
}