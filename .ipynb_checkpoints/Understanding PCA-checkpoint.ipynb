{
 "cells": [
  {
   "cell_type": "markdown",
   "metadata": {},
   "source": [
    "This notebook will help me understand Principal Component Analysis or PCA.\n",
    "\n",
    "The references used are:\n",
    "\n",
    "- https://towardsdatascience.com/a-one-stop-shop-for-principal-component-analysis-5582fb7e0a9c\n",
    "- http://setosa.io/ev/principal-component-analysis/\n",
    "\n",
    "Why use PCA:\n",
    "\n",
    "- To bring out the best relationship between independent variables in a dataset. \n",
    "- It is used for feature extraction wherein two or more independent variables are combined as one variable. This was features can be reduced without loosing important relationships between variables.\n",
    "- It makes variables independent. Thus for tasks like regression where input features should be independent while dependent variable Y depends on the same. \n",
    "- Find strong pattern in the variables. \n",
    "\n",
    "### Imports"
   ]
  },
  {
   "cell_type": "code",
   "execution_count": 37,
   "metadata": {},
   "outputs": [],
   "source": [
    "import matplotlib.pyplot as plt\n",
    "import seaborn as sns\n",
    "\n",
    "%matplotlib inline\n",
    "sns.set()\n",
    "\n",
    "import numpy as np\n",
    "import pandas as pd\n",
    "\n",
    "from sklearn.datasets import make_blobs, make_regression"
   ]
  },
  {
   "cell_type": "markdown",
   "metadata": {},
   "source": [
    "## Case of 2D data\n",
    "\n",
    "###### Let's prepare some synthetic data"
   ]
  },
  {
   "cell_type": "code",
   "execution_count": 103,
   "metadata": {},
   "outputs": [],
   "source": [
    "x1 = np.array([4,2,1,6,4,7,8,9])\n",
    "x2 = np.array([15,9,4,20,11, 19,26,30])"
   ]
  },
  {
   "cell_type": "code",
   "execution_count": 104,
   "metadata": {},
   "outputs": [
    {
     "data": {
      "image/png": "[encoded data removed]",
      "text/plain": [
       "<Figure size 432x288 with 1 Axes>"
      ]
     },
     "metadata": {},
     "output_type": "display_data"
    }
   ],
   "source": [
    "plt.plot(x1,x2, 'x');\n",
    "plt.title('Original Dataset');"
   ]
  },
  {
   "cell_type": "markdown",
   "metadata": {},
   "source": [
    "#### General Steps\n",
    "\n",
    "- Calculate a matrix that summarizes how variables relate to each other.\n",
    "- Break this matrix to two components:\n",
    "    - Direction\n",
    "    - Magnitude\n",
    "- Transform original data to align with these directions\n",
    "Let's see at the directions"
   ]
  },
  {
   "cell_type": "code",
   "execution_count": 108,
   "metadata": {},
   "outputs": [],
   "source": [
    "dir1x = [4, 5]; dir1y = [25, 20]\n",
    "dir2x = [5, 6]; dir2y = [20, 25]"
   ]
  },
  {
   "cell_type": "code",
   "execution_count": 111,
   "metadata": {},
   "outputs": [
    {
     "data": {
      "image/png": "[encoded data removed]",
      "text/plain": [
       "<Figure size 432x288 with 1 Axes>"
      ]
     },
     "metadata": {},
     "output_type": "display_data"
    }
   ],
   "source": [
    "plt.plot(x1,x2, 'x');\n",
    "plt.plot(dir1x, dir1y, dir2x, dir2y, lw=4);\n",
    "plt.title('Original Dataset');"
   ]
  },
  {
   "cell_type": "markdown",
   "metadata": {},
   "source": [
    "> Which one of the following direction is more revelant for this dataset?\n",
    "\n",
    "Let's walk through an algorithm to perform PCA\n",
    "\n",
    "1) Split the dataset into label and features if your dataset is labeled. Since our dummy dataset donot have any label we are proceeding to step <br>\n",
    "2) For each column, subtract the mean of that column from each entry."
   ]
  },
  {
   "cell_type": "code",
   "execution_count": 113,
   "metadata": {},
   "outputs": [],
   "source": [
    "x1_mean_zero = x1-np.mean(x1)\n",
    "x2_mean_zero = x2-np.mean(x2)"
   ]
  },
  {
   "cell_type": "code",
   "execution_count": 116,
   "metadata": {},
   "outputs": [
    {
     "name": "stdout",
     "output_type": "stream",
     "text": [
      "x1 with zero mean:  [-1.125 -3.125 -4.125  0.875 -1.125  1.875  2.875  3.875] 0.0\n",
      "x2 with zero mean:  [ -1.75  -7.75 -12.75   3.25  -5.75   2.25   9.25  13.25] 0.0\n"
     ]
    }
   ],
   "source": [
    "print(\"x1 with zero mean: \", x1_mean_zero, np.mean(x1_mean_zero))\n",
    "print(\"x2 with zero mean: \", x2_mean_zero, np.mean(x2_mean_zero))"
   ]
  },
  {
   "cell_type": "code",
   "execution_count": null,
   "metadata": {},
   "outputs": [],
   "source": []
  },
  {
   "cell_type": "code",
   "execution_count": null,
   "metadata": {},
   "outputs": [],
   "source": []
  },
  {
   "cell_type": "markdown",
   "metadata": {},
   "source": [
    "3) Decide whether or not to standardize. We ain't performing data standardization. <br>\n",
    "4) Tranpose feature vector X and muliply with X. This will give covariance matrix. "
   ]
  },
  {
   "cell_type": "code",
   "execution_count": 142,
   "metadata": {},
   "outputs": [
    {
     "name": "stdout",
     "output_type": "stream",
     "text": [
      "Shape of X:  (8, 2)\n"
     ]
    }
   ],
   "source": [
    "X = np.vstack((x1_mean_zero.T,x2_mean_zero.T))\n",
    "X = X.reshape((X.shape[-1], X.shape[0]))\n",
    "print(\"Shape of X: \", X.shape)"
   ]
  },
  {
   "cell_type": "code",
   "execution_count": 143,
   "metadata": {},
   "outputs": [
    {
     "data": {
      "text/plain": [
       "array([[ -1.125,  -3.125],\n",
       "       [ -4.125,   0.875],\n",
       "       [ -1.125,   1.875],\n",
       "       [  2.875,   3.875],\n",
       "       [ -1.75 ,  -7.75 ],\n",
       "       [-12.75 ,   3.25 ],\n",
       "       [ -5.75 ,   2.25 ],\n",
       "       [  9.25 ,  13.25 ]])"
      ]
     },
     "execution_count": 143,
     "metadata": {},
     "output_type": "execute_result"
    }
   ],
   "source": [
    "X"
   ]
  },
  {
   "cell_type": "code",
   "execution_count": 144,
   "metadata": {},
   "outputs": [
    {
     "name": "stdout",
     "output_type": "stream",
     "text": [
      "Shape of X transposed:  (2, 8)\n"
     ]
    }
   ],
   "source": [
    "X_transpose = X.T\n",
    "print(\"Shape of X transposed: \", X_transpose.shape)"
   ]
  },
  {
   "cell_type": "code",
   "execution_count": 145,
   "metadata": {},
   "outputs": [],
   "source": [
    "covar_mat = np.matmul(X,X_transpose)"
   ]
  },
  {
   "cell_type": "code",
   "execution_count": 146,
   "metadata": {},
   "outputs": [
    {
     "name": "stdout",
     "output_type": "stream",
     "text": [
      "Shape: (8, 8)\n"
     ]
    }
   ],
   "source": [
    "print(\"Shape:\", covar_mat.shape)"
   ]
  },
  {
   "cell_type": "markdown",
   "metadata": {},
   "source": [
    "5) Calculate the eigenvectors and their corresponding eigenvalues of the resulting covariance matrix."
   ]
  },
  {
   "cell_type": "code",
   "execution_count": 147,
   "metadata": {},
   "outputs": [],
   "source": [
    "eigenvalue, eigenvector = np.linalg.eig(covar_mat)"
   ]
  },
  {
   "cell_type": "code",
   "execution_count": 152,
   "metadata": {},
   "outputs": [
    {
     "name": "stdout",
     "output_type": "stream",
     "text": [
      "Eigen Values:\n",
      " [ 0.00000000e+00+0.0000000e+00j  3.88253988e+02+0.0000000e+00j\n",
      "  2.04121012e+02+0.0000000e+00j -9.62308783e-15+0.0000000e+00j\n",
      "  7.77239630e-15+0.0000000e+00j  2.62935885e-15+5.7014319e-15j\n",
      "  2.62935885e-15-5.7014319e-15j  3.43905035e-16+0.0000000e+00j]\n",
      "Shape:  (8,)\n",
      "\n",
      "\n",
      "Eigen Vector:\n",
      " [[-0.98240302+0.j          0.14573288+0.j         -0.11681712+0.j\n",
      "   0.18689957+0.j          0.18688053+0.j         -0.3022846 +0.02747459j\n",
      "  -0.3022846 -0.02747459j  0.44134736+0.j        ]\n",
      " [-0.00812034+0.j          0.13172034+0.j          0.23261513+0.j\n",
      "  -0.22426067+0.j          0.31343974+0.j         -0.12254603-0.26310243j\n",
      "  -0.12254603+0.26310243j  0.01229056+0.j        ]\n",
      " [-0.02056676+0.j         -0.01749694+0.j          0.15113338+0.j\n",
      "  -0.41940361+0.j         -0.03078169+0.j          0.02823709+0.05576257j\n",
      "   0.02823709-0.05576257j -0.00124277+0.j        ]\n",
      " [-0.04463877+0.j         -0.23821728+0.j          0.07821778+0.j\n",
      "  -0.33989389+0.j         -0.52134028+0.j          0.68048557+0.j\n",
      "   0.68048557-0.j         -0.83652246+0.j        ]\n",
      " [ 0.0876359 +0.j          0.32100615+0.j         -0.33653135+0.j\n",
      "   0.44136544+0.j          0.38511231+0.j         -0.35844859+0.00519004j\n",
      "  -0.35844859-0.00519004j -0.06689644+0.j        ]\n",
      " [-0.0312166 +0.j          0.38932872+0.j          0.74822317+0.j\n",
      "   0.39883009+0.j          0.23084605+0.j         -0.00146149+0.07084875j\n",
      "  -0.00146149-0.07084875j -0.03814804+0.j        ]\n",
      " [-0.0228743 +0.j          0.14997494+0.j          0.37946543+0.j\n",
      "  -0.29392792+0.j         -0.45868803+0.j         -0.13418242+0.01287417j\n",
      "  -0.13418242-0.01287417j  0.08157234+0.j        ]\n",
      " [-0.1523975 +0.j         -0.79198723+0.j          0.29359728+0.j\n",
      "   0.42788543+0.j          0.42672226+0.j         -0.45272105-0.00056488j\n",
      "  -0.45272105+0.00056488j  0.304476  +0.j        ]]\n",
      "Shape:  (8, 8)\n"
     ]
    }
   ],
   "source": [
    "print(\"Eigen Values:\\n\", eigenvalue)\n",
    "print(\"Shape: \", eigenvalue.shape)\n",
    "print(\"\\n\")\n",
    "print(\"Eigen Vector:\\n\", eigenvector)\n",
    "print(\"Shape: \", eigenvector.shape)"
   ]
  },
  {
   "cell_type": "markdown",
   "metadata": {},
   "source": [
    "6) Sort the eigenvalues from largest to smallest. Sort corresponding eigen vector too. "
   ]
  },
  {
   "cell_type": "code",
   "execution_count": 153,
   "metadata": {},
   "outputs": [],
   "source": [
    "# Get the sort index\n",
    "sort_index = np.argsort(eigenvalue)"
   ]
  },
  {
   "cell_type": "code",
   "execution_count": 154,
   "metadata": {},
   "outputs": [
    {
     "data": {
      "text/plain": [
       "array([3, 0, 7, 6, 5, 4, 2, 1], dtype=int64)"
      ]
     },
     "execution_count": 154,
     "metadata": {},
     "output_type": "execute_result"
    }
   ],
   "source": [
    "sort_index"
   ]
  },
  {
   "cell_type": "code",
   "execution_count": 169,
   "metadata": {},
   "outputs": [],
   "source": [
    "# Sort eigenvalue\n",
    "eigenvalue = np.sort(eigenvalue)"
   ]
  },
  {
   "cell_type": "code",
   "execution_count": 170,
   "metadata": {},
   "outputs": [
    {
     "data": {
      "text/plain": [
       "array([-9.62308783e-15+0.0000000e+00j,  0.00000000e+00+0.0000000e+00j,\n",
       "        3.43905035e-16+0.0000000e+00j,  2.62935885e-15-5.7014319e-15j,\n",
       "        2.62935885e-15+5.7014319e-15j,  7.77239630e-15+0.0000000e+00j,\n",
       "        2.04121012e+02+0.0000000e+00j,  3.88253988e+02+0.0000000e+00j])"
      ]
     },
     "execution_count": 170,
     "metadata": {},
     "output_type": "execute_result"
    }
   ],
   "source": [
    "eigenvalue"
   ]
  },
  {
   "cell_type": "code",
   "execution_count": 164,
   "metadata": {},
   "outputs": [],
   "source": [
    "# Sort eigen vector as per sort index\n",
    "eigenvector = eigenvector[:,sort_index]"
   ]
  },
  {
   "cell_type": "code",
   "execution_count": 165,
   "metadata": {},
   "outputs": [
    {
     "data": {
      "text/plain": [
       "array([[ 0.18689957+0.j        , -0.98240302+0.j        ,\n",
       "         0.44134736+0.j        , -0.3022846 -0.02747459j,\n",
       "        -0.3022846 +0.02747459j,  0.18688053+0.j        ,\n",
       "        -0.11681712+0.j        ,  0.14573288+0.j        ],\n",
       "       [-0.22426067+0.j        , -0.00812034+0.j        ,\n",
       "         0.01229056+0.j        , -0.12254603+0.26310243j,\n",
       "        -0.12254603-0.26310243j,  0.31343974+0.j        ,\n",
       "         0.23261513+0.j        ,  0.13172034+0.j        ],\n",
       "       [-0.41940361+0.j        , -0.02056676+0.j        ,\n",
       "        -0.00124277+0.j        ,  0.02823709-0.05576257j,\n",
       "         0.02823709+0.05576257j, -0.03078169+0.j        ,\n",
       "         0.15113338+0.j        , -0.01749694+0.j        ],\n",
       "       [-0.33989389+0.j        , -0.04463877+0.j        ,\n",
       "        -0.83652246+0.j        ,  0.68048557-0.j        ,\n",
       "         0.68048557+0.j        , -0.52134028+0.j        ,\n",
       "         0.07821778+0.j        , -0.23821728+0.j        ],\n",
       "       [ 0.44136544+0.j        ,  0.0876359 +0.j        ,\n",
       "        -0.06689644+0.j        , -0.35844859-0.00519004j,\n",
       "        -0.35844859+0.00519004j,  0.38511231+0.j        ,\n",
       "        -0.33653135+0.j        ,  0.32100615+0.j        ],\n",
       "       [ 0.39883009+0.j        , -0.0312166 +0.j        ,\n",
       "        -0.03814804+0.j        , -0.00146149-0.07084875j,\n",
       "        -0.00146149+0.07084875j,  0.23084605+0.j        ,\n",
       "         0.74822317+0.j        ,  0.38932872+0.j        ],\n",
       "       [-0.29392792+0.j        , -0.0228743 +0.j        ,\n",
       "         0.08157234+0.j        , -0.13418242-0.01287417j,\n",
       "        -0.13418242+0.01287417j, -0.45868803+0.j        ,\n",
       "         0.37946543+0.j        ,  0.14997494+0.j        ],\n",
       "       [ 0.42788543+0.j        , -0.1523975 +0.j        ,\n",
       "         0.304476  +0.j        , -0.45272105+0.00056488j,\n",
       "        -0.45272105-0.00056488j,  0.42672226+0.j        ,\n",
       "         0.29359728+0.j        , -0.79198723+0.j        ]])"
      ]
     },
     "execution_count": 165,
     "metadata": {},
     "output_type": "execute_result"
    }
   ],
   "source": [
    "eigenvector"
   ]
  },
  {
   "cell_type": "code",
   "execution_count": 178,
   "metadata": {},
   "outputs": [],
   "source": [
    "## Reversing the order of eigenvalues and eigenvectors (Largest to Smallest)\n",
    "eigenvalue = eigenvalue[::-1]\n",
    "eigenvector = eigenvector[:,::-1]"
   ]
  },
  {
   "cell_type": "markdown",
   "metadata": {},
   "source": [
    "7) Calculate X* = X(eigenvector*)"
   ]
  },
  {
   "cell_type": "code",
   "execution_count": 180,
   "metadata": {},
   "outputs": [],
   "source": [
    "X_transformed = np.matmul(eigenvector, X)"
   ]
  },
  {
   "cell_type": "code",
   "execution_count": 181,
   "metadata": {},
   "outputs": [
    {
     "data": {
      "text/plain": [
       "array([[  1.51806992+1.27069977e-01j,   2.66451507+3.19392104e-01j],\n",
       "       [ -3.7826306 -1.21684873e+00j,  -2.09530277-3.05856573e+00j],\n",
       "       [ -4.28272427+2.57901880e-01j,  -5.58762674+6.48239862e-01j],\n",
       "       [  9.07571602+0.00000000e+00j, -10.12425425+0.00000000e+00j],\n",
       "       [  4.62220738+2.40039302e-02j,   6.64132413+6.03342030e-02j],\n",
       "       [  0.56929991+3.27675468e-01j,   4.96682288+8.23616716e-01j],\n",
       "       [ -4.99630133+5.95430353e-02j,  -4.15762467+1.49662224e-01j],\n",
       "       [ -0.35731992-2.61255465e-03j,  11.60239066-6.56669141e-03j]])"
      ]
     },
     "execution_count": 181,
     "metadata": {},
     "output_type": "execute_result"
    }
   ],
   "source": [
    "X_transformed"
   ]
  },
  {
   "cell_type": "code",
   "execution_count": 201,
   "metadata": {},
   "outputs": [],
   "source": [
    "x1_transformed = X_transformed[:,:-1].flatten()\n",
    "x2_transformed = X_transformed[:,1:].flatten()"
   ]
  },
  {
   "cell_type": "code",
   "execution_count": 205,
   "metadata": {},
   "outputs": [
    {
     "data": {
      "image/png": "[encoded data removed]",
      "text/plain": [
       "<Figure size 432x288 with 1 Axes>"
      ]
     },
     "metadata": {},
     "output_type": "display_data"
    }
   ],
   "source": [
    "plt.plot(abs(x1_transformed),abs(x2_transformed), 'x');\n",
    "plt.title('Original Dataset');"
   ]
  },
  {
   "cell_type": "code",
   "execution_count": null,
   "metadata": {},
   "outputs": [],
   "source": []
  }
 ],
 "metadata": {
  "kernelspec": {
   "display_name": "Python 3",
   "language": "python",
   "name": "python3"
  },
  "language_info": {
   "codemirror_mode": {
    "name": "ipython",
    "version": 3
   },
   "file_extension": ".py",
   "mimetype": "text/x-python",
   "name": "python",
   "nbconvert_exporter": "python",
   "pygments_lexer": "ipython3",
   "version": "3.7.1"
  }
 },
 "nbformat": 4,
 "nbformat_minor": 2
}
